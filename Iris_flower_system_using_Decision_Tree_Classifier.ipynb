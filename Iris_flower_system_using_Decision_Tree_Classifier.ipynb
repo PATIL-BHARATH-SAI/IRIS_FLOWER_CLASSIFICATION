{
  "cells": [
    {
      "cell_type": "markdown",
      "metadata": {
        "id": "TIQe6mMDIitX"
      },
      "source": [
        "# Iris Dataset\n",
        "\n",
        "Iris dataset is a typical machine learning classification problem. There are three species of Iris flower. When a new flower is given, we need to predict it belongs to which type.[link text](https://www.google.com/url?sa=i&url=http%3A%2F%2Fwww.lac.inpe.br%2F~rafael.santos%2FDocs%2FCAP394%2FWholeStory-Iris.html&psig=AOvVaw08URbarHxIsjjTxqsukADi&ust=1692374880058000&source=images&cd=vfe&opi=89978449&ved=0CBAQjRxqFwoTCMDSwPCJ5IADFQAAAAAdAAAAABAD)"
      ]
    },
    {
      "cell_type": "code",
      "execution_count": null,
      "metadata": {
        "id": "Oex3EItFIitZ",
        "outputId": "d95756e8-ca24-44a2-e3ea-65ebd16c0b81",
        "colab": {
          "base_uri": "https://localhost:8080/"
        }
      },
      "outputs": [
        {
          "output_type": "stream",
          "name": "stdout",
          "text": [
            "Populating the interactive namespace from numpy and matplotlib\n"
          ]
        }
      ],
      "source": [
        "import numpy as np\n",
        "import pandas as pd\n",
        "import matplotlib.pyplot as plt\n",
        "import seaborn as sns\n",
        "from sklearn import datasets\n",
        "\n",
        "from sklearn.tree import DecisionTreeClassifier\n",
        "from sklearn import metrics\n",
        "%pylab inline\n",
        "%matplotlib inline"
      ]
    },
    {
      "cell_type": "code",
      "execution_count": null,
      "metadata": {
        "id": "iLPksD26Iite"
      },
      "outputs": [],
      "source": [
        "import warnings\n",
        "warnings.filterwarnings('ignore')"
      ]
    },
    {
      "cell_type": "code",
      "execution_count": null,
      "metadata": {
        "id": "OTRCZSnYIitf",
        "outputId": "412900f1-f167-4278-ef0f-3479c254b8e7",
        "colab": {
          "base_uri": "https://localhost:8080/",
          "height": 206
        }
      },
      "outputs": [
        {
          "output_type": "execute_result",
          "data": {
            "text/plain": [
              "   sepal length (cm)  sepal width (cm)  petal length (cm)  petal width (cm)  \\\n",
              "0                5.1               3.5                1.4               0.2   \n",
              "1                4.9               3.0                1.4               0.2   \n",
              "2                4.7               3.2                1.3               0.2   \n",
              "3                4.6               3.1                1.5               0.2   \n",
              "4                5.0               3.6                1.4               0.2   \n",
              "\n",
              "   target  \n",
              "0     0.0  \n",
              "1     0.0  \n",
              "2     0.0  \n",
              "3     0.0  \n",
              "4     0.0  "
            ],
            "text/html": [
              "\n",
              "\n",
              "  <div id=\"df-540fd61a-e208-4cea-aec1-5dbe109ac6db\">\n",
              "    <div class=\"colab-df-container\">\n",
              "      <div>\n",
              "<style scoped>\n",
              "    .dataframe tbody tr th:only-of-type {\n",
              "        vertical-align: middle;\n",
              "    }\n",
              "\n",
              "    .dataframe tbody tr th {\n",
              "        vertical-align: top;\n",
              "    }\n",
              "\n",
              "    .dataframe thead th {\n",
              "        text-align: right;\n",
              "    }\n",
              "</style>\n",
              "<table border=\"1\" class=\"dataframe\">\n",
              "  <thead>\n",
              "    <tr style=\"text-align: right;\">\n",
              "      <th></th>\n",
              "      <th>sepal length (cm)</th>\n",
              "      <th>sepal width (cm)</th>\n",
              "      <th>petal length (cm)</th>\n",
              "      <th>petal width (cm)</th>\n",
              "      <th>target</th>\n",
              "    </tr>\n",
              "  </thead>\n",
              "  <tbody>\n",
              "    <tr>\n",
              "      <th>0</th>\n",
              "      <td>5.1</td>\n",
              "      <td>3.5</td>\n",
              "      <td>1.4</td>\n",
              "      <td>0.2</td>\n",
              "      <td>0.0</td>\n",
              "    </tr>\n",
              "    <tr>\n",
              "      <th>1</th>\n",
              "      <td>4.9</td>\n",
              "      <td>3.0</td>\n",
              "      <td>1.4</td>\n",
              "      <td>0.2</td>\n",
              "      <td>0.0</td>\n",
              "    </tr>\n",
              "    <tr>\n",
              "      <th>2</th>\n",
              "      <td>4.7</td>\n",
              "      <td>3.2</td>\n",
              "      <td>1.3</td>\n",
              "      <td>0.2</td>\n",
              "      <td>0.0</td>\n",
              "    </tr>\n",
              "    <tr>\n",
              "      <th>3</th>\n",
              "      <td>4.6</td>\n",
              "      <td>3.1</td>\n",
              "      <td>1.5</td>\n",
              "      <td>0.2</td>\n",
              "      <td>0.0</td>\n",
              "    </tr>\n",
              "    <tr>\n",
              "      <th>4</th>\n",
              "      <td>5.0</td>\n",
              "      <td>3.6</td>\n",
              "      <td>1.4</td>\n",
              "      <td>0.2</td>\n",
              "      <td>0.0</td>\n",
              "    </tr>\n",
              "  </tbody>\n",
              "</table>\n",
              "</div>\n",
              "      <button class=\"colab-df-convert\" onclick=\"convertToInteractive('df-540fd61a-e208-4cea-aec1-5dbe109ac6db')\"\n",
              "              title=\"Convert this dataframe to an interactive table.\"\n",
              "              style=\"display:none;\">\n",
              "\n",
              "  <svg xmlns=\"http://www.w3.org/2000/svg\" height=\"24px\"viewBox=\"0 0 24 24\"\n",
              "       width=\"24px\">\n",
              "    <path d=\"M0 0h24v24H0V0z\" fill=\"none\"/>\n",
              "    <path d=\"M18.56 5.44l.94 2.06.94-2.06 2.06-.94-2.06-.94-.94-2.06-.94 2.06-2.06.94zm-11 1L8.5 8.5l.94-2.06 2.06-.94-2.06-.94L8.5 2.5l-.94 2.06-2.06.94zm10 10l.94 2.06.94-2.06 2.06-.94-2.06-.94-.94-2.06-.94 2.06-2.06.94z\"/><path d=\"M17.41 7.96l-1.37-1.37c-.4-.4-.92-.59-1.43-.59-.52 0-1.04.2-1.43.59L10.3 9.45l-7.72 7.72c-.78.78-.78 2.05 0 2.83L4 21.41c.39.39.9.59 1.41.59.51 0 1.02-.2 1.41-.59l7.78-7.78 2.81-2.81c.8-.78.8-2.07 0-2.86zM5.41 20L4 18.59l7.72-7.72 1.47 1.35L5.41 20z\"/>\n",
              "  </svg>\n",
              "      </button>\n",
              "\n",
              "\n",
              "\n",
              "    <div id=\"df-eb37fc50-5c06-4cd8-862d-a752df1c916e\">\n",
              "      <button class=\"colab-df-quickchart\" onclick=\"quickchart('df-eb37fc50-5c06-4cd8-862d-a752df1c916e')\"\n",
              "              title=\"Suggest charts.\"\n",
              "              style=\"display:none;\">\n",
              "\n",
              "<svg xmlns=\"http://www.w3.org/2000/svg\" height=\"24px\"viewBox=\"0 0 24 24\"\n",
              "     width=\"24px\">\n",
              "    <g>\n",
              "        <path d=\"M19 3H5c-1.1 0-2 .9-2 2v14c0 1.1.9 2 2 2h14c1.1 0 2-.9 2-2V5c0-1.1-.9-2-2-2zM9 17H7v-7h2v7zm4 0h-2V7h2v10zm4 0h-2v-4h2v4z\"/>\n",
              "    </g>\n",
              "</svg>\n",
              "      </button>\n",
              "    </div>\n",
              "\n",
              "<style>\n",
              "  .colab-df-quickchart {\n",
              "    background-color: #E8F0FE;\n",
              "    border: none;\n",
              "    border-radius: 50%;\n",
              "    cursor: pointer;\n",
              "    display: none;\n",
              "    fill: #1967D2;\n",
              "    height: 32px;\n",
              "    padding: 0 0 0 0;\n",
              "    width: 32px;\n",
              "  }\n",
              "\n",
              "  .colab-df-quickchart:hover {\n",
              "    background-color: #E2EBFA;\n",
              "    box-shadow: 0px 1px 2px rgba(60, 64, 67, 0.3), 0px 1px 3px 1px rgba(60, 64, 67, 0.15);\n",
              "    fill: #174EA6;\n",
              "  }\n",
              "\n",
              "  [theme=dark] .colab-df-quickchart {\n",
              "    background-color: #3B4455;\n",
              "    fill: #D2E3FC;\n",
              "  }\n",
              "\n",
              "  [theme=dark] .colab-df-quickchart:hover {\n",
              "    background-color: #434B5C;\n",
              "    box-shadow: 0px 1px 3px 1px rgba(0, 0, 0, 0.15);\n",
              "    filter: drop-shadow(0px 1px 2px rgba(0, 0, 0, 0.3));\n",
              "    fill: #FFFFFF;\n",
              "  }\n",
              "</style>\n",
              "\n",
              "    <script>\n",
              "      async function quickchart(key) {\n",
              "        const containerElement = document.querySelector('#' + key);\n",
              "        const charts = await google.colab.kernel.invokeFunction(\n",
              "            'suggestCharts', [key], {});\n",
              "      }\n",
              "    </script>\n",
              "\n",
              "\n",
              "      <script>\n",
              "\n",
              "function displayQuickchartButton(domScope) {\n",
              "  let quickchartButtonEl =\n",
              "    domScope.querySelector('#df-eb37fc50-5c06-4cd8-862d-a752df1c916e button.colab-df-quickchart');\n",
              "  quickchartButtonEl.style.display =\n",
              "    google.colab.kernel.accessAllowed ? 'block' : 'none';\n",
              "}\n",
              "\n",
              "        displayQuickchartButton(document);\n",
              "      </script>\n",
              "      <style>\n",
              "    .colab-df-container {\n",
              "      display:flex;\n",
              "      flex-wrap:wrap;\n",
              "      gap: 12px;\n",
              "    }\n",
              "\n",
              "    .colab-df-convert {\n",
              "      background-color: #E8F0FE;\n",
              "      border: none;\n",
              "      border-radius: 50%;\n",
              "      cursor: pointer;\n",
              "      display: none;\n",
              "      fill: #1967D2;\n",
              "      height: 32px;\n",
              "      padding: 0 0 0 0;\n",
              "      width: 32px;\n",
              "    }\n",
              "\n",
              "    .colab-df-convert:hover {\n",
              "      background-color: #E2EBFA;\n",
              "      box-shadow: 0px 1px 2px rgba(60, 64, 67, 0.3), 0px 1px 3px 1px rgba(60, 64, 67, 0.15);\n",
              "      fill: #174EA6;\n",
              "    }\n",
              "\n",
              "    [theme=dark] .colab-df-convert {\n",
              "      background-color: #3B4455;\n",
              "      fill: #D2E3FC;\n",
              "    }\n",
              "\n",
              "    [theme=dark] .colab-df-convert:hover {\n",
              "      background-color: #434B5C;\n",
              "      box-shadow: 0px 1px 3px 1px rgba(0, 0, 0, 0.15);\n",
              "      filter: drop-shadow(0px 1px 2px rgba(0, 0, 0, 0.3));\n",
              "      fill: #FFFFFF;\n",
              "    }\n",
              "  </style>\n",
              "\n",
              "      <script>\n",
              "        const buttonEl =\n",
              "          document.querySelector('#df-540fd61a-e208-4cea-aec1-5dbe109ac6db button.colab-df-convert');\n",
              "        buttonEl.style.display =\n",
              "          google.colab.kernel.accessAllowed ? 'block' : 'none';\n",
              "\n",
              "        async function convertToInteractive(key) {\n",
              "          const element = document.querySelector('#df-540fd61a-e208-4cea-aec1-5dbe109ac6db');\n",
              "          const dataTable =\n",
              "            await google.colab.kernel.invokeFunction('convertToInteractive',\n",
              "                                                     [key], {});\n",
              "          if (!dataTable) return;\n",
              "\n",
              "          const docLinkHtml = 'Like what you see? Visit the ' +\n",
              "            '<a target=\"_blank\" href=https://colab.research.google.com/notebooks/data_table.ipynb>data table notebook</a>'\n",
              "            + ' to learn more about interactive tables.';\n",
              "          element.innerHTML = '';\n",
              "          dataTable['output_type'] = 'display_data';\n",
              "          await google.colab.output.renderOutput(dataTable, element);\n",
              "          const docLink = document.createElement('div');\n",
              "          docLink.innerHTML = docLinkHtml;\n",
              "          element.appendChild(docLink);\n",
              "        }\n",
              "      </script>\n",
              "    </div>\n",
              "  </div>\n"
            ]
          },
          "metadata": {},
          "execution_count": 3
        }
      ],
      "source": [
        "# load the iris datasets\n",
        "iris = datasets.load_iris()\n",
        "#df = pd.DataFrame(data.data, columns=data.feature_names)\n",
        "#df.head()\n",
        "df = pd.DataFrame(data= np.c_[iris['data'], iris['target']],\n",
        "                     columns= iris['feature_names'] + ['target'])\n",
        "df.head()"
      ]
    },
    {
      "cell_type": "code",
      "execution_count": null,
      "metadata": {
        "id": "0y-UvUZIIitg",
        "outputId": "89ebbebc-b06c-4aac-b41d-246498fb68cc",
        "colab": {
          "base_uri": "https://localhost:8080/"
        }
      },
      "outputs": [
        {
          "output_type": "execute_result",
          "data": {
            "text/plain": [
              "0.0    50\n",
              "1.0    50\n",
              "2.0    50\n",
              "Name: target, dtype: int64"
            ]
          },
          "metadata": {},
          "execution_count": 4
        }
      ],
      "source": [
        "df[\"target\"].value_counts()"
      ]
    },
    {
      "cell_type": "code",
      "source": [
        "import seaborn as sns\n",
        "import matplotlib.pyplot as plt\n",
        "\n",
        "# Assuming 'df' is your DataFrame and 'target' is the column you want to use for hue\n",
        "sns.FacetGrid(df, hue=\"target\", height=6).map(plt.scatter, \"petal length (cm)\", \"petal width (cm)\").add_legend()\n",
        "\n",
        "plt.show()"
      ],
      "metadata": {
        "colab": {
          "base_uri": "https://localhost:8080/",
          "height": 607
        },
        "id": "iIdfOeRzKXmK",
        "outputId": "22920439-92eb-4046-c2e5-e5d428ae6d10"
      },
      "execution_count": null,
      "outputs": [
        {
          "output_type": "display_data",
          "data": {
            "text/plain": [
              "<Figure size 672x600 with 1 Axes>"
            ],
            "image/png": "[encoded data removed]"
          },
          "metadata": {}
        }
      ]
    },
    {
      "cell_type": "markdown",
      "metadata": {
        "id": "l7R9weU2Iiti"
      },
      "source": [
        "### Apply on Iris Dataset"
      ]
    },
    {
      "cell_type": "code",
      "execution_count": null,
      "metadata": {
        "id": "yonKSONSIitj",
        "outputId": "b4f2a417-8d16-4695-8ace-8cf34da81fb7",
        "colab": {
          "base_uri": "https://localhost:8080/"
        }
      },
      "outputs": [
        {
          "output_type": "stream",
          "name": "stdout",
          "text": [
            "DecisionTreeClassifier(criterion='entropy', max_depth=2)\n"
          ]
        }
      ],
      "source": [
        "# fit a CART model to the data\n",
        "#model = DecisionTreeClassifier()\n",
        "model = DecisionTreeClassifier(criterion=\"entropy\",max_depth=2)\n",
        "\n",
        "model.fit(iris.data, iris.target)\n",
        "print(model)"
      ]
    },
    {
      "cell_type": "code",
      "execution_count": null,
      "metadata": {
        "id": "4uCoPcmnIitk",
        "outputId": "7b9fedef-c032-47f6-91f6-ccc38f38a04c",
        "colab": {
          "base_uri": "https://localhost:8080/"
        }
      },
      "outputs": [
        {
          "output_type": "execute_result",
          "data": {
            "text/plain": [
              "0.96"
            ]
          },
          "metadata": {},
          "execution_count": 7
        }
      ],
      "source": [
        "model.score(iris.data, iris.target)"
      ]
    },
    {
      "cell_type": "markdown",
      "metadata": {
        "id": "NU7rJl91Iitl"
      },
      "source": [
        "### Make predictions"
      ]
    },
    {
      "cell_type": "code",
      "execution_count": null,
      "metadata": {
        "id": "7mkrDoBpIitl"
      },
      "outputs": [],
      "source": [
        "expected = iris.target\n",
        "predicted = model.predict(iris.data)"
      ]
    },
    {
      "cell_type": "markdown",
      "metadata": {
        "id": "4wZ9O8pzIitm"
      },
      "source": [
        "### Summarize the fit of the model"
      ]
    },
    {
      "cell_type": "code",
      "execution_count": null,
      "metadata": {
        "id": "7TRnMBolIitm",
        "outputId": "d901fc21-bc04-48bb-d4ab-64bc1e8aa840",
        "colab": {
          "base_uri": "https://localhost:8080/"
        }
      },
      "outputs": [
        {
          "output_type": "stream",
          "name": "stdout",
          "text": [
            "              precision    recall  f1-score   support\n",
            "\n",
            "           0       1.00      1.00      1.00        50\n",
            "           1       0.91      0.98      0.94        50\n",
            "           2       0.98      0.90      0.94        50\n",
            "\n",
            "    accuracy                           0.96       150\n",
            "   macro avg       0.96      0.96      0.96       150\n",
            "weighted avg       0.96      0.96      0.96       150\n",
            "\n",
            "[[50  0  0]\n",
            " [ 0 49  1]\n",
            " [ 0  5 45]]\n"
          ]
        }
      ],
      "source": [
        "\n",
        "print(metrics.classification_report(expected, predicted))\n",
        "print(metrics.confusion_matrix(expected, predicted))"
      ]
    },
    {
      "cell_type": "markdown",
      "metadata": {
        "collapsed": true,
        "id": "jKXvqYEfIitn"
      },
      "source": [
        "## Tunning parameters"
      ]
    },
    {
      "cell_type": "code",
      "execution_count": null,
      "metadata": {
        "id": "EhMoEdz8Iitn"
      },
      "outputs": [],
      "source": [
        "def Decision_Tree(Type,Depth):\n",
        "        # import some data to play with\n",
        "        iris = datasets.load_iris()\n",
        "        X = iris.data[:, :2]  # we only take the first two features.\n",
        "        Y = iris.target\n",
        "        h = .02  # step size in the mesh\n",
        "        # we create an instance of Neighbours Classifier and fit the data.\n",
        "        model =DecisionTreeClassifier(criterion=Type,max_depth=Depth)\n",
        "\n",
        "        model.fit(X, Y)\n",
        "        # Plot the decision boundary. For that, we will assign a color to each\n",
        "        # point in the mesh [x_min, m_max]x[y_min, y_max].\n",
        "        x_min, x_max = X[:, 0].min() - .5, X[:, 0].max() + .5\n",
        "        y_min, y_max = X[:, 1].min() - .5, X[:, 1].max() + .5\n",
        "        xx, yy = np.meshgrid(np.arange(x_min, x_max, h), np.arange(y_min, y_max, h))\n",
        "        Z = model.predict(np.c_[xx.ravel(), yy.ravel()])\n",
        "\n",
        "        # Put the result into a color plot\n",
        "        Z = Z.reshape(xx.shape)\n",
        "        plt.figure(1, figsize=(4, 3))\n",
        "        plt.pcolormesh(xx, yy, Z, cmap=plt.cm.Paired)\n",
        "\n",
        "        # Plot also the training points\n",
        "        plt.scatter(X[:, 0], X[:, 1], c=Y, edgecolors='k', cmap=plt.cm.Paired)\n",
        "        plt.xlabel('Sepal length')\n",
        "        plt.ylabel('Sepal width')\n",
        "        plt.xlim(xx.min(), xx.max())\n",
        "        plt.ylim(yy.min(), yy.max())\n",
        "        plt.xticks(())\n",
        "        plt.yticks(())\n",
        "        plt.show()\n",
        "\n",
        "        model.fit(iris.data, iris.target)\n",
        "        expected = iris.target\n",
        "        predicted = model.predict(iris.data)\n",
        "        print(metrics.classification_report(expected, predicted))\n",
        "        print(metrics.confusion_matrix(expected, predicted))"
      ]
    },
    {
      "cell_type": "code",
      "execution_count": null,
      "metadata": {
        "id": "AZcl4YREIito"
      },
      "outputs": [],
      "source": [
        "from IPython.html import widgets\n",
        "from IPython.html.widgets import interact\n",
        "from IPython.display import display\n"
      ]
    },
    {
      "cell_type": "code",
      "execution_count": null,
      "metadata": {
        "id": "04SutzD1Iito",
        "outputId": "6c46c9c0-6f0e-454a-801a-96f422aa5bb3",
        "colab": {
          "referenced_widgets": [
            "b45780c5563f494db1f06937a5daca14",
            "d047718d4f9a4a8480ef030cef403b1f",
            "5cb378c04483454c84f70e8763b52a9f",
            "39922c522ce642468bbe2ecaa06e36dc",
            "8d1ca83d0c154d81a7d6a20dee31540d",
            "190ffd63ce0b46fe83980a805f6b5554",
            "dfd8fad0c88d45fbb58a3c99252f73e5",
            "af44fbb34e954e0fa8ae09e9c99330fb",
            "17f01d836b394c2b8ed56bfb15f9fe2f",
            "873e03508c4b47ceb9a7211d3858f338"
          ],
          "base_uri": "https://localhost:8080/",
          "height": 577
        }
      },
      "outputs": [
        {
          "output_type": "display_data",
          "data": {
            "text/plain": [
              "interactive(children=(Dropdown(description='Type', options=('gini', 'entropy'), value='gini'), IntSlider(value…"
            ],
            "application/vnd.jupyter.widget-view+json": {
              "version_major": 2,
              "version_minor": 0,
              "model_id": "b45780c5563f494db1f06937a5daca14"
            }
          },
          "metadata": {}
        }
      ],
      "source": [
        "i = interact(Decision_Tree, Type=['gini','entropy'],Depth=(1,10))"
      ]
    }
  ],
  "metadata": {
    "anaconda-cloud": {},
    "kernelspec": {
      "display_name": "Python 3",
      "language": "python",
      "name": "python3"
    },
    "language_info": {
      "codemirror_mode": {
        "name": "ipython",
        "version": 3
      },
      "file_extension": ".py",
      "mimetype": "text/x-python",
      "name": "python",
      "nbconvert_exporter": "python",
      "pygments_lexer": "ipython3",
      "version": "3.8.8"
    },
    "colab": {
      "provenance": []
    },
    "widgets": {
      "application/vnd.jupyter.widget-state+json": {
        "b45780c5563f494db1f06937a5daca14": {
          "model_module": "@jupyter-widgets/controls",
          "model_name": "VBoxModel",
          "model_module_version": "1.5.0",
          "state": {
            "_dom_classes": [
              "widget-interact"
            ],
            "_model_module": "@jupyter-widgets/controls",
            "_model_module_version": "1.5.0",
            "_model_name": "VBoxModel",
            "_view_count": null,
            "_view_module": "@jupyter-widgets/controls",
            "_view_module_version": "1.5.0",
            "_view_name": "VBoxView",
            "box_style": "",
            "children": [
              "IPY_MODEL_d047718d4f9a4a8480ef030cef403b1f",
              "IPY_MODEL_5cb378c04483454c84f70e8763b52a9f",
              "IPY_MODEL_39922c522ce642468bbe2ecaa06e36dc"
            ],
            "layout": "IPY_MODEL_8d1ca83d0c154d81a7d6a20dee31540d"
          }
        },
        "d047718d4f9a4a8480ef030cef403b1f": {
          "model_module": "@jupyter-widgets/controls",
          "model_name": "DropdownModel",
          "model_module_version": "1.5.0",
          "state": {
            "_dom_classes": [],
            "_model_module": "@jupyter-widgets/controls",
            "_model_module_version": "1.5.0",
            "_model_name": "DropdownModel",
            "_options_labels": [
              "gini",
              "entropy"
            ],
            "_view_count": null,
            "_view_module": "@jupyter-widgets/controls",
            "_view_module_version": "1.5.0",
            "_view_name": "DropdownView",
            "description": "Type",
            "description_tooltip": null,
            "disabled": false,
            "index": 0,
            "layout": "IPY_MODEL_190ffd63ce0b46fe83980a805f6b5554",
            "style": "IPY_MODEL_dfd8fad0c88d45fbb58a3c99252f73e5"
          }
        },
        "5cb378c04483454c84f70e8763b52a9f": {
          "model_module": "@jupyter-widgets/controls",
          "model_name": "IntSliderModel",
          "model_module_version": "1.5.0",
          "state": {
            "_dom_classes": [],
            "_model_module": "@jupyter-widgets/controls",
            "_model_module_version": "1.5.0",
            "_model_name": "IntSliderModel",
            "_view_count": null,
            "_view_module": "@jupyter-widgets/controls",
            "_view_module_version": "1.5.0",
            "_view_name": "IntSliderView",
            "continuous_update": true,
            "description": "Depth",
            "description_tooltip": null,
            "disabled": false,
            "layout": "IPY_MODEL_af44fbb34e954e0fa8ae09e9c99330fb",
            "max": 10,
            "min": 1,
            "orientation": "horizontal",
            "readout": true,
            "readout_format": "d",
            "step": 1,
            "style": "IPY_MODEL_17f01d836b394c2b8ed56bfb15f9fe2f",
            "value": 5
          }
        },
        "39922c522ce642468bbe2ecaa06e36dc": {
          "model_module": "@jupyter-widgets/output",
          "model_name": "OutputModel",
          "model_module_version": "1.0.0",
          "state": {
            "_dom_classes": [],
            "_model_module": "@jupyter-widgets/output",
            "_model_module_version": "1.0.0",
            "_model_name": "OutputModel",
            "_view_count": null,
            "_view_module": "@jupyter-widgets/output",
            "_view_module_version": "1.0.0",
            "_view_name": "OutputView",
            "layout": "IPY_MODEL_873e03508c4b47ceb9a7211d3858f338",
            "msg_id": "",
            "outputs": [
              {
                "output_type": "display_data",
                "data": {
                  "text/plain": "<Figure size 400x300 with 1 Axes>",
                  "image/png": "iVBORw0KGgoAAAANSUhEUgAAAV0AAAEOCAYAAAAqksTuAAAAOXRFWHRTb2Z0d2FyZQBNYXRwbG90bGliIHZlcnNpb24zLjcuMSwgaHR0cHM6Ly9tYXRwbG90bGliLm9yZy/bCgiHAAAACXBIWXMAAA9hAAAPYQGoP6dpAAB7pElEQVR4nO3dd3hUxRrA4d/2ZNN7b5TQe++9KyIiShGQolgQ+xUUsXfFggVRARFBBOm9995rSCC9956t5/4RCCy70QRDAjjv89znys6ec2Y3ybezc775RiZJkoQgCIJQLeQ13QFBEIT/EhF0BUEQqpEIuoIgCNVIBF1BEIRqJIKuIAhCNRJBVxAEoRqJoCsIglCNlDVxUbPZTFJSEk5OTshksprogiAIQpWSJIn8/Hz8/f2Ry8sfz9ZI0E1KSiIoKKgmLi0IgnBbxcfHExgYWG57jQRdJycnAL7ZcBh7B8ea6ILwH+Xw9QM13YXbov+4XuW2bZy/rRp78t9VZDAxYdWVsvhWnhoJutemFOwdHNE6/n0HBaEqaVWKmu7CbeHsoCm37V59zXeqf5oyFTfSBEEQqpEIuoIgCNVIBF1BEIRqJIKuIAhCNRJBVxAEoRqJoCsIglCNRNAVBEGoRiLoCoIgVCMRdAVBEKqRCLqCIAjVSARdQRCEaiSCriAIQjUSQVcQBKEaiaArCIJQjUTQFQRBqEYi6AqCIFQjEXQFQRCqkQi6giAI1UgEXUEQhGokgq4gCEI1EkFXEAShGomgKwiCUI1E0BUEQahGIugKgiBUIxF0BUEQqpEIuoIgCNVIWdMdEP47jAY9J/ftID0pAScXN1p264PW0ammuyUI1UoEXaFaHN62nvkfzyAnIw21nR36khI09loeGP8sD4x/FplMVtNdFIRqIYKucNud2Ludr16dTOse/Rk2+UWC6tQnKy2ZDYt+Yum3nwAwZMKUGu6lIFQPEXSF20qSJP745iMatunE1E9+QC4vvY3g7u3HqBdmADJW/TKbvsPHonVyrtnOCkI1EDfShNsq4XIEcZEXGDh6UlnAvdHA0RPRlxRzdNfmGuidIFQ/EXSF2yo/JxsA3+Awm+1uXr5o7LXk52RVZ7cEocaIoCvcVh6+/gBEnz9lsz0xOoqSokK8/AKrs1uCUGNE0BVuK5/AEBq27sDqed9RUlxk0SZJEn/9OAtnNw9adOlVQz0UhOolgq5w2416YQapCbG8/fiD7N+0itSEWE4f2MUnU8ZwYNNqxrzyFiq1pqa7KQjVQmQvCLddWIMmvPnTMhZ+/jazpz1b9nhArXBe/OInWnfvV4O9E4TqJYKuUC2uBd6UuGgyU5JwdHUjuG4DsShC+M8RQVeoVr7BYeVmMgjCf4GY0xUEQahGIugKgiBUIzG9IFRaelICW5ct5PT+nRgNBmo1akaf4WOo07hFTXdNEO54YqQrVMqZQ3t4dVhPti37jbAGTWjcrjMXTxzmzTGDWTP/+5runiDc8cRIV6iwvOxMZr00ifot2zH1kx+w0zoA8NhLM1k25wsWf/0BofUb0aR91xruqSDcucRIV6iwnav+wGQ08tS7X5UFXAC5QsHDT71MaP3GbPz9lxrsoSDc+UTQFSrs4vFDNGrbCWc3d6s2mUxG+773c+H4wRromSDcPUTQFSpMkiRkiMUMgvBviKD7H6IrLsag193y8Q1atefs4b3kZVuXYZQkiYOb11K/Zbt/00VBuOeJoHuPM5vNbFv2G/8b3pvHO4Uztn0d3p30MMd3b630ubo/8AgKpZLv33yekqJCi2ss/+ELYi6eYcDICVXZfUG454jshXuY2WzmhzdfYN+GFbTu0Z9BYyZj0OnYu245nz3/OKNeeINBjz1Z4fM5u3nwwmc/8sWLE3l2QDva9hqAnb0Dx/dsIS0hjkenvCYyFwThH4igew87uHk1e9f/xZQPv6VDv8Flj/ccOpI/Zn/Molnv0bxTTwJq1a3wOZu078ony7ax9c+FnNy3A6PRQHizNjz7/mzqNBGLIwThn4igew/b+udCGrXpZBFwoTTT4KEnX2DnyiVsW76IMa+8VanzevkHMWLqdEZMnV6FvRWE/wYxp3sPi428QNMO3Wy2qdQaGrXtRFzkhWrulSD8t4mgew9Ta+woyMspt70gNxuVRuzYIAjVSQTde1irbn3Zu245el2JVVtaYhxnD++7Y3ZtMJvNRF84w7nD+0hPSqjp7gjCbSPmdO9hA0ZOYM+6ZXz1ymQmvPEh7t5+AMRHXeSbac/g7u1LpwFDaraTwP6NK1k+ZxbJsVfKHmvaoRuPvTSzUjf5BOFuIILuPSygVl1e/Pwnvn7taZ4b1IHajZqj15UQG3EOr4BgXvt2kUUNhZqwbdlv/PzBNFr36Mf4aR/g4evPpVNHWTXvW96eMJS35q3EP7R2jfZREKqSCLr3uGYdu/PNuoPsXf8XUWdPolAoGDzuadr07I9Spa7RvhUV5LPoy/foOXQUE17/sGy/NN/gMFp268OM0ffxx+yPeeGzH2u0n4JQlUTQ/Q/QOjnT95Fx9H2kpnti6dDWdeh1JQx9YqrVBpWOzq4MHD2JBZ/OJC87y2aRHUG4G4kbaUKNyUhOwM3Lp2yu+WZhDZtiNpnITk+p5p4Jwu0jgq5QY5xc3cnLyqQoP89me2p8DACOLm7V2CtBuL1E0BXKlRRzme/ffJ6Pp4xh4edvU1RgOzjeqna9B2I2m9i8dIFVm9FgYOPiX2jQqj0ePrZHwoJwNxJzuoIVo9HIuxOHEXXmBMhAY2fPqX072PzHfPoMH8uYl9+qkuu4efnSf8R4/vz+M4x6PX0fHYezmwcxF8+y9LtPibl4lunfL66SawnCnUIEXcHKuxOHEXn6OEMnTS0LhEkxl/nzu0/Z+PvPaB2dGDb5pSq51oipr6NQqljz6/es+Okr1Bo7dCXFuPv48eIXP9OgVfsquY4g3ClE0BUsJMVcJurMCYZOmsqwp64HVv/Q2kz56DvyJz/KuoU/MvSJF5DL//3slFwu59Epr3HfmCc5tmsLRQX5+AaF0rRDNxRK8esp3HvEnK5gYeVPX4MM+j46zqpNLpczYNQkdMVFnNq3s0qv6+jiRrfBwxkwcgItuvQSAVe4Z4mgK1jIz8nCzl6Ls5uHzXafwGAAMlJEfQRBuBUi6AoW/EJrU1xYYFEH4UZRZ04AENagaXV2SxDuGeI73D2iIDeL2a9PJeLEYSSzGXcfPya9+SkNKrlR5NAnXmDLHwv487vPePbD2RbztkX5eaya9y3O7p7Uady80n1MvBLJzlV/kJ6cgJOLG50GDKFei7ZWq9GE/xZJkjibVsSe2Hzy9SZ8HFT0ru1CoPPflx3NLTGy7UouUdklqOQyWvk50iHIEZXizh5LiqB7D9i7YQVzZr6IyWgkpF5DtI7ORJ4+xnuTHqZx+y5M+3ZRhc/l6OxCr4dHs3nJfPJzsxgwciLegcFEnTnBql9mk54UX+laCJIksWjWu6z/bS7Obh6E1GtIzMUzbFv+G80792Tqxz+gsbev7MsW7gHFBjMf7U3kZEohfo4qvB1UbEsrYsXFLIY2cGdMMy+bH8r74vL48mAykgT1Pe0pNprZGZOE7xkVM7sH4e9Us3VF/o4Iune53KwM5sx8EQ8ff174fC4h4Q2B0gLlCz6Zyb6NK/n9qw8YWYmtdca9+i4OTi6s/20unz3/eNnj1zambNWtb6X6uGHRT6z/bS6jXniDvo+MQ6XWYDabObZrM9+9MZWf33+Np9/7qlLnFO4Nsw8nE5FRzOtdA2jj74hMJsNgMrM6IptfT6XjqVUxKNxyRWJkZjGf70+iY5ATT7T2wVlTGsZic3R8si+Rt3bE883AMDTKO3PEe2f2Sqiw7954DpPRyItf/FQWcKE0G2Dy21/gGxTK5j/mVfq8Dz/1Mj/vucBLs35m3Gvv8c6C1fyw7WSlA67RYGDtrz/Q48ERDHrsSVTq0q+McrmcNj36M/L519m3caUoXP4flJyvZ29cPhNaetM2wKlsRKtSyHmooQc9Qp1ZcSETk1myOG7VxSx8HFW80MG/LOAChLhqmNYlgNRCA/vi86v1tVSGCLp3uUsnjxLWoCnBdRtYtSmUSnoMGYFBp8NkMlX63HK5nFbd+tJ3+Nhb3uk35uJZcjLS6P7Aozbbu9w3DLlczqn9O27p/MLd62hSASq5jK4hzjbb+9R2Jb3ISGyOzuLxI0kF9AhzQSG3nnYIdNbQwNOeI4kFt6XPVUEE3buc2WzG0cWl3HYHZxckScKk11djr64z6Ev/YLROtv+wNHb2KJUqDDqdzXbh3mUwS6gUMtQK2zdSHdSl4Ul/00jXYJJwUCnKPa+jWo7BZK66jlYxEXTvcq5e3lw8cbjcSl0n9mxDoVShrqEbVQG16qJQqji1z/ZI9uLxg+hKigmp16iaeybUtFqudhQZzFzMKLbZfiypEJVcRsBNN8XC3Ow4nmx7JFtsMHM2rZgwN7sq729VuaUbaWazmaioKNLS0jCbLT9RunbtWiUdEypm/PQP+OTZMfz2xTtMnPGJRYrXsV2bOb57C7XKyak1GY0c2raOHX8tJjUhFgdnFzr0G0zPB0cgk8vZsWIx+zeuoiA3B++AILoPGUGHvvdXarWYs5sH7fvcx+r539Gia2/8gsPK2grzc/nti3cJCKsraiz8BzX11eLvpOKXE2m83SMI7Q2j14Q8HSsvZtElxBknjeWodkBdV2YfSmF/fB4dg65/gzJLEvNPpqEzmelb27W6XkalySRJkv75adcdPHiQkSNHEhsby82HymSyCs0d5uXl4eLiwk+7z6N1dKpcjwUrrz3Sh7jIiwTWCqf7kEfROjlzfPdWju3chFyh5KedZ9FotRbHGPQ6Zr38BCf3bqdh6w7UadKSjJREjmzbgKOrGzJk5GVn0qZnf7z8g7h89iTnjuyjSfuuvDTrZ9Saio8kcrMyeGfiMLLTUuhy3zBqN25OanwMO1YsRq/T8cacJYTWb1zVb4tNDp/2qZbrVLf7nih/V+e1P26qxp5UTmRmMW/uiMdeKadPbRd8HNRcyixmR0wuXloVH/QOwfmmoGsyS3xxIIl9cfm0DXCkbYAjxUYz26Nzic7W8XRb3xoJukUGEyOWRZKbm4uzs+3pNLiFke7kyZNp3bo169atw8/PTyS217DC/FwykpPwDalFfk4Wv33xLiChsbMnOLwhsRHnOLl/B+16D7I47q8fv+Tc4X38b/ZCmnXsXvZ45pQk3p30MDmZaXz21w68A4LL2s4e2sunz4/jz+8+Y9QLb1S4jy7unrw9bwXrf5vLzlV/sGXpAuy0DnTsP4T7x07GJyj0X74Lwt2qroc9n/cL5a8Lmay8mEWJUcLNXsngeu48UN8dR7X13K1CLuPFDv408clhQ2QO3xxOQS6Dln4OPN7Cm6Y+NbvZ6j+p9EjXwcGBU6dOUadOnVu+qBjpVp0Nv//M71++x9frDuLm5YPRaMRo0GNnXzqyfXfSw0hmM2/+vLzsGL2uhGcHtKXLoId47KWZVuc8c3A3Hz49ijd/Xk79Fm0t2hZ//SHblv3G7E1Hyq5RWUaDHoVSVSMf2GKke+eSJAmjWar0ijKjWUIuA3kNDwArOtKt9I20du3aERUV9a86J1SdiJNHqNe8DW5ePgAolUqLYNiu9yAiTh21mHtPio6iICebdr3vs3nORm07o3VyJuLEYau2dr0HUVSQR0JUxC33WalSi29IghWZTHZLS3iVclmNB9zKqND0wunTp8v+e8qUKbz00kukpKTQpEkTVCqVxXObNhWFUKqTTCazupl5I5tfZK7+gkpSOcdJEkjYDIxlx9w9v+OCcEepUNBt3rw5MpnM4g94/PjxZf99ra2iN9LuRUaDnqKCArSOTihv+iC6FWaTiYK8XOzs7VHbWaZ7GfQ6igsL0To60bB1B+Z/PIPMlCQ8fP0tnidJEvs3rqJhqw4WWQ2Bteri7O7JgU2rqde8jdW1T+3fSVFBHg1bd7Rq279xFY4urgTXqf+vX6NwZzCZJQoNJjQK+R27dPZeUqGgGx0dfbv7cddKiYtm5c/fcGDzagw6HRp7LZ0GPMiQCVPw9Auo9PkK83NZPe87dq5cQn5OFjK5nJZde/PA+Gex1zqy8udvOLR1HUaDHnsHR9r3HYzW0ZnZ05/lpVk/l+2cazaZWPnzN0SePsbLX1ouA1aq1PQdPpYVP31Fw9YdaNNzQNmoNjn2Cj9/MA21xg47reUNiaM7N7H5jwXcP3ay1QeBcPcp0JtYfj6TrVdyydOZkMugjb8jwxp5EO4hfr63S4WCbkhISNl/7969m44dO6K8KVfTaDSyf/9+i+fe6+IuXeDdJx7GTuvA0EnP4x9Wh7hLF9i2/DeO797Cmz8tw/eGvNR/UpCXw7sTh5GRnEj3IY9Sv0VbstJS2Lb8N94e/xAKhQIXT28efvoVfINCiL54lu3LF6FQKom/HMGUAe1o1aMfWkcnTu7dQUZyAsOffoWWXXtbXeuB8c+ScDmCL195ktD6TajbtCUZyYmc3LcdL/8g3Lx9+d8jfWjWsfvVlLETXDl/mjY9+jP0iReq8m0UakCB3sT0rXGkFRroU9uFhl5aMosNbIrKYdrWOKZ1CaC1v2NNd/OeVOnsBYVCQXJyMt7e3haPZ2Zm4u3t/Z/J05UkiTdGD8JsMvHG3KU4OF1fipublcHb44fi4RvA6z9UfDfbeR+9wf6NK3nrlxUE1Kpb9rjRoOeLlyZx9tBevt14BCc397K2rLRk3hr3IP5hdQhv3poTe7Zh1OsJqdeIPsPHULtR83KvZzabObVvBztWLiYtIQ6tkzMd+z9A54FDQSZj3/oV7N+40mJxRIsuvapkb7SaIrIXSs05msLu2Dw+6h1CkMv1urUGk8THexOIyCzh5wdqo77Da9PeSW5bnu61udubZWZm4uBwZ+fHVaXoC6eJvnCGV76abxFwoTQvdeik5/luxlSS46ItVmGVR1dczJ61yxgwaqJFwIXS6YDHXprJSw9249SBXXQe+GBZm7u3Hw+Mf5ZfPnqdSW9+ytBJz1f4Ncjlclp06UWLLr1stvd6aBS9HhpV4fMJdwed0cz26DwG13OzCLgAKoWMx1v48PS6K+yPz6d7aPl1PYRbU+GgO3ToUKD0ptm4cePQaK7/sEwmE6dPn6ZjR+sbL/eq+KspU03ad7HZ3qRD6XLoxCuXKhR0M1ISKSkqpEk72+fzC6mFV0AQCZetU7WadOiKZDaTFBOFh49fRV+C8B+VXmSgxGimua/tQVKAsxofBxVxOaII0e1Q4aDrcrWSlSRJODk5YX9DARW1Wk379u2ZNGlS1ffwDqW5eiMpLzsTd2/rQJefnWnxvIqfL8tmu9FgoDAvF7Wd9fLbvEpeS/hv01ydMsjT2Z4KNJolCvQmkclwm1Q46M6bV3oHPDQ0lJdffvk/NZVgS5MOXVHb2bF9+e8Me+olq/Ztyxfh6OJKvZtWdJXHw9ef0PpN2P7XItr07G81hXNo61qK8vNo1a0vu9YsJTM5ieDwBrTu3o/tyxfh5uWDd2Aw6xf9hK64iOadexBWv0nZ8blZGcRGnEOhUFK7cXOrzITK0hUXE3X2BEaDntB6jXDx8PpX5xOqj6dWSW03DZuicmgf6Gj1u7YvLo9Cg5n2gXfn/ZY7XaXndGfOtF42+l/k4ORC3+HjWPnLN7h4etFjyKMoVWr0JcVsXrqATUvmMfyZVytcGEYmkzFkwrN8+cqT/PrZWzz05As4OruWbmuzcxM/vz8NZDJmjLkf4w21cVUaOwy6EnyDw5jSvx0mkxGAP7//DHcvH5754Bt2/LWYA5vXYDIaALB3dKL3sMd4+KmXK51TbDIaWT7nCzb/sYCigtJykgqlkna9BzHmlXdwvuEmn3BnkslkDGvkwcd7k/jpeBojmnjiqFZgliQOJRTww9FU2gY4EuL69xtDCremQtkLLVq0qPCyzePHj//jc+6F7AUoDUC/fDidHSsW4+Tqjk9gCMlxVyjMy2XAqImMemFGpe/0b1oyn9++eAeFUkFwnQZkpaeQlZqMh48/malJNOvUg/vGTMY3OIzoC6dZ8dPXxFw4iySZ6T9iAt0feAR7RydO7t3Gsh++oKggD3sHJ4ZMmELrHv3Q60rYu+4v1i38kTY9+jHlo+8q/LOVJInvZzzP/k2rGDByIl3vH4bGXsuxXVtY9fM3OLt78Na8lXf0z1RkL1y37lI2v5xIRS6TEeqqIbPYSGaRkRa+Drza2d+i1KLwzyqavVChoPv222+X/XdJSQnfffcdDRs2pEOHDkBpucdz587x9NNP8+GHH/5j5+6VoHtN4pVI9qxbTm5mOu4+fnS9b9i/qpyVk5HG7rXLSIm9gr2DIy269ubjZ8fQqntfnvvoO4tArteV8Pb4oSRFRzFv/yWL8yz55iPW/TqHDxZvIOimFWQHN6/h69ee5o0fl9KwdYcK9Svi5BHeHj+Up975ki73PWTRlnglkumjBvDQEy8w+PFnbvGV334i6FrKLjayPTqXpHw99io5XYKdCfewE7UxbkGVpozdOKUwceJEnnvuOd59912r58THx99id+9uAbXq8uiU16rsfK6e3gwe93TZv5fM/giT0cCwJ1+wGjmrNXY8MH4KX77yBMd3b7VYCHFs1xba9RlkFXAB2vW5j4A5s9i5ckmFg+6uVX/gExhCpxtS1q4JqFWXDn3vZ8fKJXd00BUsudkreaihR0134z+l0rcn//zzT8aMGWP1+OjRo1m+fLmNI4R/KyUuBoVSSWDtejbbwxqUFgCPj7po8XhWalK5xcFlMhkh9RuRmZpU4X5kpiYRUr9xuVMmofWbkJWaXOHzCcJ/UaWDrr29Pfv27bN6fN++fdjZSGcS/j03Lx9MRiPpSba/SSTHXgHA64aC4wBObu4kx5ZfNyM55jJObhUf5Ti5eZAcc9l25bKr/XB2F6MmQfg7lc5eeP7553nqqac4fvw4bduWpkMdOnSIX375hRkzZlR5B+8GBbnZHNqyjtysDNy8fWnXa2C5u99eYzab2bj4F07u3Y5cLqdD/8F0u3+4zecOmTCFLUsXsHbBDzw+7X2r86xd8AMqjYbA2uGsWfADRoOO0HqNad29H1v+XMiQic+REneFy2dOIFcqadq+K4X5eURfOMPQJ54vt4+xl86z4qevKcjJxjc4jJZd+rB/w0pOH9hlsdsEQHZ6CnvX/0Xf4WMr9J5VBbPJxIm924mLPI9SpaFl194EhP1zcf20QgMH4/MpNpoJcFbTLsARlUKOJElcyizhTGoREhINvbQ09LIX85tClap07QWApUuX8tVXX3HhwgUAGjRowNSpUxk+3HbQuNm9ciNNkiRW/fwNK37+GrPJhJOrO3nZmajUGh559n/0HzHe5nEn9+3gq1cnoysuwt7BEbPZjK64CK2TM6/PWWKRX3vN5y9O5NjOTfQaNpr7xkzGOyCY2EvnWT7nC47t3FxaI1eS0NhrUWvsyM/JQqXWYDDoS/9fV4KjiytGo5GSwgKUKjVhDZow8+flyBWWd6mNej0zxz9IzIUzyOUK7B2dKMjNQSaX4eblQ1F+Ho9OeY0u9w1DrbHj+J6tLP7qA/Qlxby/aH215OxeOnWU76Y/Q1pyEp6uDhTpDBQV62nTox9Pvj3L5u+VQa9j4chWbI/ORSmXoVXJySkx4aJRMKa5F5sv5xKRUYyDSo5MBgV6M2GuGv7XOQC/m3akvdPcCztH3O2qNHuhqt0rQXftrz/w+5fvc//Ypxj42BO4uHuSnZ7Cyp9ns2XpAibN+IQeD46wOCYxOpJpj/bD0y+ICa9/SMPWHZDMZk7s3c7P779GUUE+szccKivReM3bE4YRceIQcoUCs8lUVsNYoVRiMhqx0zowfvqHtO8zCKVKzeVzJ5n/0QyiL57BKyCYJ2d+Rr3mbTCbTBzbtZmfP5iGm5cv7y1cg1JlGVDeeOw+os+f5uGnX6HP8DE4OLmQlhjHn999xr4NK2gU5sGF2CzMZqmsH+0bBfDrtN7UDnC93W87F2KzaP/UEprX8eKLZ7rSqp4POr2RP3ZEMvWbnbSp58Omzx60GqGO/WATS7ZF8HgLL3qFuWKvkhOfq+PXU+kcSSzAWaPguXZ+tPBzQC6DU6lF/Hg0FZ3JzKz+YVYbJN5JRNCtebet4I1QSldczMqfZ9P3kXGMmDq97HE3L18ef+09ivLzWD7nC7re/7DFluXzPnoDmUzOjLlLy7bYkSkUtOrWB5/AYF4d3odFs97jybc+LzsmIzmRyFNHuH/c0wx67ElWz5tNdnoqfiG1CKvflM9fHM8Ln/1Ik/Zdy46p3ag5077/nReHdCW8Scuyvc4USiVtew3Ew9efGY/dz9Edm2jf9/6y4+IvXyL6/GmGPfUSQyZMKXvcOyCYp9/7itysDC6fOkzUorFsP5GA3mCmTX0fWoZbVp27nT5dchR3ZzvWffwAjvalHxgatZIx/Rrg4WzH4Omr2XUqke7NA8uOuRSfzW9bLvJ0G1/61XEtezzIpXQk+/KmGDRKGa0DrpczbO7rwDs9g3hq7RU2X85hmLjLL1SBCt1Ic3d3JyMjAwA3Nzfc3d3L/d9/xemDuyjKzy13CmHAqAlkpaUQcfKIxeNRZ07Qsf8DZQH3RoG169G4bWeO795i8fjqed9iNpvpP+JxnN3cGf3im0z58FuGTX6Jozs34h9ah8Y2CuVoHZ3o9dAoju60HunUbtSc8Gat2b9pleW1fpkNMhl9HrbOUJHJZAwYNZHiEh2nL2fw+IBGPDm4SbUGXLNZYumOSCYMbFQWcG80sH0odQJcWLLNsjDQ0h2XcFQr6BFmPQJRymXcX8+Nixkl5OmMFm2eWhUdg5zYE5tXtS9E+M+q0Eh31qxZODk5lf23uLEAhXm5AHj5B9ls9/QrHWUV5udaPG42mcrabPHyD+LyuZMWj+XlZKFQKnHz8rXuR34unv6B5f5MPP0CKS4swGwyWc3devoFkJORZvFYQW42dvZaq+mNsv5d3Q0jKbOw3NdwO+mNJop1RoJ9bH99k8lkhPg4k1NgWSErO1+Hm1ZZbn1YL4fS5dCFejPOGuu2c2lF/77zgkAFg+7YsdfvSI8bN+529eWu4hNYukPGpVNHadCqvVX7pVNHS58XYLmThtrOjkunjlg9H0pvzEWcOITW0TKgBNepz+Gt67hy/jS1Glpu/OkTGMLuNcsw6HWo1NZr5S+dPIKnX6BVwDWbzUSeOUGjmxZGBNSqy6n9O0m8EmlV17f0dR0DoE1965F6ddCoFPh7OnDwfDJj+jWwai/WGTkRlc6k+yzzk2v7u5Ccpye72IibvfWv/cWMYtQKme229GJ8HO/sG2nC3aPSebpjxoxh3rx5XL58+Xb0565Rr0Vb/EJqseyHzzHoLUdVJcVFrJj7FbUaNSM43DIwtOs9iDMH93DusI1c5w0rSYq5TJ/hll/t7xszGaVKzR+zP+b0gV3MeeslPp36OPM+fJ2gug3Iz8liw6KfrM4Xd+kC+zassJjrvWbHisWkJ8bRfYjljb6hTzyPQqnkj28/wXzTLiAFudms+mU23u4OtAyvmaArk8mYMLARCzdf4Fx0plX7538cIyuvhPEDG1k8PqJ3PVRKOYvPZFjlGWcWGVh9MZt6HvbY3VTO8ERyIWfSiuhbu2qLeacW6PlgdwLjVkQybkUkH+5JILVA/88HCne9SmcvTJw4kd27dxMVFUVAQADdunWje/fudOvWjbp1rUdGttwr2QvnjuznkyljCKgVzsDRkwisVZeYiHOs/+1H0pMSeOPHP6y2yykpLmLqoA4UF+bT79HHadtrECajgX0bVrL9r0V4+Qfxxao9Vqu+ln77KavmzUYym/ELqYVvcBixEefISkspe06HfoPpPuRRHJycOb57G+sX/oj56pbp/UeMp3X3awVvlrNr9VJ6Dh3FhNeta2UsmvUe6xbOIbx5GwaOmoiXfxBRZ0+wZv53ZKelsvr9QfRvF1rl72dF5Rbo6Db1TxLSC5j6UAsGtA8lO7+EX9afZ+mOS7zxWFveHm+9tHnO6jM8PWs7Lf0cGFDXFQ97FWfTilh5MYsCvQm9SWJAXVe6hjgjl8nYF5fHukvZ+Dqq+WZgGAp51UyrrbyQyYJT6QA09tYiQdn0xYQW3txXr/L3RkT2Qs277SljiYmJ7N69m127drFr1y4uXbqEn58fCQkJ/3jsvRJ0ofTr9tJvP+H80f1ljzXt0I1Hp7xW7hLcgrxcPnn2MaIvnCkrxahUqWjQqgOvfDkPpdr6q+x3M57n8Lb1PPfRd7To0qt0u3ujkZ2r/uCXD6ahsbNH6+xStgxXY6/Fw9efpOgo2vW5jzMHdpeVYnT38WPAyAkMGDWp3CW9q36Zzep531FcmF/2mJuXD0/O/Jz3G9meHqlO2fklTPtxH4u2XqSopPQ9rBPgwisjWjNhYKNy57inz/iTP85mEnN1VwSlHJr6OHA8uRAvrRK9SSL3anFvR7UcB5WCtEID7/QIomk5Oy1UxoX0IqZvi6OJt5YXO/jjenU6I6vYyOf7EzmfXsynfUKoU8ndeEXQrXm3PWXMzc0NDw8P3NzccHV1RalU4uX13ytkHd6sFW/8+AeZKUnkZqXj5uVj84bXjRydXXjn19UU5GZz+uAeFHIFzTr3wM5ea/P5mSlJ7NuwgrGvvG1R0EahVNLroVEkXI5g7/oVfPbXTjKS4jHo9fgGh6Gx1zLt0b6YjAa+3XSU5NjLyBUKAsLqWqSx2fLA+Gd5YPyznDu6n6yUJEIbNCWodnhpY27NB103Jzt+eKkXn0zuTFRiLnZqBfWD3ZH/w2i0Y5AzHQKdSMo3UGw04+2g4pO9iajkMmb1D8NOKSchT4cEBDqrkSR4fGUU806mMat/xXd2Ls8vJ9LQKORM6xKIver6B567vZLpXQJ5fGUUP59I48Pe/51dtf9rKh10p0+fzs6dOzlx4gQNGjSgW7duvPbaa3Tt2hU3N9t3vP8LPHz98fD1r9Qxji5udOw3+B+fd/rALpAkutw3zGZ7t8HD2bRkHjEXzlC/ZTuLti73DeOP2Z+gtrMrd+T9dxq1vrP3vXN20FQ6ZU0mkxHgfP3bxOXsEjoEOeF0dfFDmJtlDZGuoc5sv2KZhXKr4nJ1dAlxtgi41zioFXQKduJAfL6NI4V7RaWD7kcffYSXlxczZ85k6NChhIeH345+CTcwGvTIFQo05YyE7R1KE/oNBusbMfYOTpiMBiSzGZnizl1RVZMksBkEr9Eq5VTVsk1JKj1feexVCqp/jahQnSqdvXDixAlef/11Dh8+TKdOnQgICGDkyJH8+OOPXLp06Z9PIFRaaP0mmIxGzhzYZbP9+J5tKJQqgm3UzT2xZyuh9RtbpYwJ17nZKTiSWIDJbB3tJEniUGIBTuqqef+cNQoOJRbYrNRmliQOJ+TjaicWit7LKv3TbdasGc2aNeO5554D4NSpU8yaNYtnnnkGs9mMyWR7h9G7QeTp42z6Yx4Xjx9CJpPRoGV7+o143CoD4UZFBfnsWLmYvWuXl1YZ8/Kh6/3D6f7AI0SdO8GiL94lMToKyWxG6+hE9wcfZfjTr1ZqG586TVoQWr8Ji2a9R1jDpjjfUI4xOfYKK+Z+ibu3L06ulne9D29bz4k925j4xseVfi/uFKcvp/PNX6fYeiwOk0miXUNfnn2wGd2al7/ApLIebezJFweSWXI2g5FNPC1uwq2OyCYhT09jL3se+yuSYoMZmQyCXTSMb+FFbXd7tlzOYXt0LtnFRlztlPQMc6F3bReb290Mqe/O3ONpLL+QZbGsWJIk/jyXSXqRkb61XZixPY74PD32ShkdAp0YGO6GViVny+VcdkTnklNixF2roleYC71ruXAlKZdvV5xi9f4rFOuMNKnlyeTBTRjcqVa5r9tkltgTl8fmqByS8vVoVaXTGwPquuFuI19ZqBqVzl6QJIkTJ06wc+dOdu7cyd69e8nLy6Np06Z069aNWbNm/eM57sTshU1L5rPgkxn4BIXSrveg0hHO1rWkJ8YzftoH9Bo22uqYnIw03nviEVITYmnbawABYXWJvXSeY7s24+blQ1ZqCvaOjnQeOBRHFzdO7t3GlfOn8QupzafLt1cq8J45tJdPnxuDWmNPjwdHXN0j7Qx71i1Dhgy9Xod/SG263j+sdI+0Pds5uW877fvezzPvf1Ppvdr+ziO5n1XZuf7Oku0RjP1gM77uWh7pGY5GpWDlnsucj83i3QkdmD66Yjst36i8O/lv74zneHIhtd3t6BbijFwG++LyuZBRjEoOBjOEe9jR0s+BPJ2JnTF5lBjNuNkpyCkx0S7QiRBXDXG5Og7G5xPgrObdnsE2R63TtsZyPr2Yeh52dAlxRpJgd2wekVkluGgU5OpMNPKyp6mPA9klRvbE5iEDtGo5WcVGOgQ6EeiiISa7hEOJBfg5qsgxSNiplTzaqx4eznZsOhzLoQspTBjUiPudjFbZHAaTxMf7EjmSWEBTHy2NvLRkFBvYE5uPRiHjnR5BhLqJ+tiVcdtSxtzc3CgoKKBZs2ZlObpdunTB1dW1wue404Ju9IUzvD5qIANGTmDUi2+WBSizycSvn73FlqUL+HDxJquFDh9PGUPcpfO88eNS/EKujyhiL53nnYnDUKs1zFq912K7812rlzLnrZfocv/DPPX2FxXu4zsTh5GaEEvTDt04sXsredmZePoG0KRjNw5sWk2j1h1RqtWc2LMVg750W/Q+w8fS9f6HqzTgQvUE3ejkXBqM+ZXhPcL5+dXeqJSlo0ZJknj310O8Pf8QW78YSo8Wtpdhl+fv0qeWns1g7aVs8q6mjDmo5bhqFCTkG3ihvR/dw64vkCgymHh3VwIRGcV83CeEujekeMXn6nhjexzhHva83tX2iHzhqTQ2ReWQrzcjA5w0cmq52XE6tYhXOwXQIej630WB3sTMHfHE5OiY1S+U4Bt26Y3OLmH6tjicHDVcWjTOoh7F/I3nmfDxFp5t60uf2q4W119yNoM/z2UwvUsgrfyvF/nJLTEyc0c8JUYz3w6qVWW5yf8Fty1l7LfffqNLly5/e9K7zeY/5uPpF2i1e69coWD0i29yZPsGtvz5q8VCguS4aE7t28Hkd2ZZBFyAkPCGDJv8EotmvUdxYYFF0O02eDiHt63n8NZ1FQ66sZfOc/H4IZ7/dA5tew0ESoPPtdGLl18gK376im83HsHR5XuLtrvVj2vOoNUo+f6FnmUBF0ozD2aMacfyXVF889epSgfdvzO8sSfDG3tiNpvLHnt0WSQdAh0tAi6AVlVaBvKptVeIzdVZBN0gFw2jmnrx3eEUUgv0NpcQP9bMm8eaeV+/lkzGk2uu0D3U2SLgAjiqS6/13IZo4vJ0FkE3zM2OkU08mX8ynfwig0XQHde/ISv2RLH+YrJF0DWaJTZGZtOntqtFwAVwsVPyVBtfXt0Sy4mUQlrf1C78e5UeAg0aNOieCrgAl04fo3X3fjZvNilVKlp370fEycMWj0eeLq1BcC0I3qxd74GYTUaunD9l3dbnPnTFReRmZVSsf6eOIlcoaNn1+k62NwbVdr0HYdDpiLl4zqrtVj2S+1m5/6sOB84l079dKA72Kqs2mUzGQ93qsP9sxfd3qwy5XI5cLie9yIjOJNExyPbvu5+TmjA3DRfSi63aOgY5IQERGSUVulZ2sZG0QgPtA21/8wtx1RDgpC73WkazxJGLqVZtD3Wty5WsEkqM1z9IUgsMZJeY6FjOtcI97PDQKm1eS/j3qvZ7511KLpNjMhrKbTcaDcjllgH52r/LO85oMFg870YmY+kKKoXSOqDY7J9cgSRJmE1Gm+3Gq6li91KGgkIux3BDoLiZ3mC+7V99lVfPb/ybGTijWUJh40PuWiZERWd25FfPYSrnWpIkYTRL2HrJxqvXsvV+GIymq+e/8VpXj/ub12Uq51rCvyeCLtC4XWcObVtvVbgGQF9SzJHtG2jcrrPF4w1atUeuULB/w0qb59y/YSUqtYa6TVtate1duxytozNaRydyMtLIzbIuwlJSVEDU2ZNkJCfSsE1HJLOZg1vW2rzWvg0rsXd0sqpAdjfr2TKIDYdiyM63HimaTGb+2HGJni2rbmrBFg+tCnuVnF0xpQsjjGaJzCIDBfrSQBaTXUJcrp6mvtb507ti8lDIoKGX7dxqAJPJxKmUAs6kFOKkgiBnNbtjbNftvZRZQmqhgWY+DuSUGLmUWUze1eXPu2Lz0CjldGjkZ3Xc4m0RNPDSWpS09HZQ4eOgKvdap1OLyCkx0awKlj0L1kReCNBn+Fi2LvuNH2a+yBNvfobGvnR+rqSokB/eegldcbFVUW8PHz/a97mPJbM/Jqhug7KdGQBO7d/JX3O/QmOvRa+7HjRMRiOr53/LheMHadi6Ay8O6UJaQhwAQXXqMWDUJMKbteGb154m/vLFsipfzm4eBNdtwG+z3sU/rA51GrcASkc/x3ZtZv1vc+k/YrzF3PHdbsKgRnyy+Cgj3tnAkpkDcXUsnccs0Rt5/ptdxKTk8fuM/re9Hz3DXFh3KZvXt8USl6svu8kW7mFHVrERhcx6scPZtCJ+P5NB1xBnm6lXepOJ17bEEZur49pgXiEHD3slBxIKWHspi4F13cpGv6kFemYdSEIhg68PJpGnNyMBMsDVTkFeiQlXZzuKbyjAbjSZ+fj3o+w4kcD/OluulFRcLdr+8/E0Gnpr6VPLpWxKKiFPx7eHU6jtpqGRV+XqPwgVI/ZIu+rwtvXMnj4FtZ09LTr3RELixJ5tGPV6nv1wNm16WP+BXzh2iA+eGoHJaKBu01YE1g4n5uI5oi+cRqFUIV2t8NWic0+cXN05uW8nORmpOLt7kp+TRaf+Q2jTsz8mk4n9G1dydMcmlCoVSpWavo+Mo16LtmSlJrNl6QLiIi/g5uVDdnoqDVq1L0sZi7l4llbd+zL14++t9jr7N6pr7vbvbDsWx9AZa5EkGNQhDI1KUTb6nfNyLx4f0OifT3KTyhZ/KTaYGb8qCoNJon8dV5r7lqaMbYzKJiKzBA97BZnFJsI97K6mjOmJyCimsbc9b3QNslrpZjKZGL0iiiKDROdgJzoHOyMhsSc2n/3x+WXpab6OKhp7a8kpMXI8uRCtUk6hwYyHVsngeu4EOquJztGxNiKLXJ0JBzslJQYzA9qF4uFsx9ZjccSnFTBzXDta6qyXMJsliR+OpLLpcg4BTmoaetuTWWTkZEohPg4q3ukZjLdDxaa/hFJVmjK2evXqCl948OB/riVwJwZdgPSkeLYu+40Lxw6WLo5o1Z7ewx7D8+puCTeSJInpIwcAMgaMHH91C/b0q1uwD2LFT1+jdXLG1cOLiycOYTabcfHwomn7rmz+Yz5TP/mBdr0HWZzzrccfJOHyJd79bS1+wdeLq5iMRr56dTLHd2/l8WnvcXTnZvKzM/HwDaD7kEdp1rH7XZkWVhHJmYXMXXuGrUfjMJok2jfyZfLgpoQH3Vqdj8oG3d/PpLPiQhYf9g6hjvv1vFWzJPHd4RR2xuTxVBsfDiYUkHW1QHrPMGfaBTjZnGP9fH8iu2PzmdrOj561LDMiNl/O4dvDKbT2d8BJrSAhT4+dUk77QAd+OZ5OsKuGD3oHWyy6yNOZeHVzDBnFRj56sjOr95Uujmh8dXFEq3o+5b5mSZI4n17MpquLI+xVcroEO9M11NmqrrDwz6o0ZWzIkCEVuqhMJrurV6R5+Qcx4rlpFXru5bMniY04x/+++ZVmnXrQ9f6HLdrlCjmzp0/hs7924h9au+zx9yePoH6LtlYBt6S4iNhL57lvzGSLgAul1cRGvfAGR3du5sqFM/zvm19v8RXeffw8HHhzbHveHGu9O8ftZpYkNkfl0CvMxSLgQumNrzHNvdgZk0eezlRuPu7NDiYUEOqqsblXW59aLqy6mMWZ1CKWDq9X9vjCU2mYgDHNvKxWuTlrFIxs4sXnB5JwtFex/UvbRZFskclkNPLW0si7/HlnoepV6OPMbDZX6H93c8CtrMToSAAate1ss/3a49eeV3bclUs0bNPJ6vmZKUnoioto1MZ2VS+foFDcfXyJv3Th33RbqIRCvZnsEpPNG2UAzholYW4a4nMrvuODWSrdZdhWWp9MJqOFrwM3l4A4n15a4Ly8er7X+rfxcGyF+yHUHPEd4hZdq/iVm5lus/3a4zff3LLTOpCbZX3MtVq65eXuGg16ivLy0GjFqKS6qBUyZEB2se3BhCRJ5JSYsPubCmW25JTYTv0DyLbRdm10m11s+7hr53N3Est27wa3lL1QWFjIrl27iIuLQ6+3/JS/VgjnTqbXlRBx4jAlxUUE1gq3WFGWl51J5OnjyGQy6jRpibOb7a1TmrbvisZey5Y/f+XRKa9ZtW9dthAnV3eLrAYoXUyx9c+FPDrlNQw6HZfPnUIul1O3WSuCwxuyZemvtO010GoktH/TakqKC+n3yONcPHG4bE43rEGT27b6zGgys+9MEln5JdTyc6FZnYoVqT9wLom1+6Ox0yiZMLAR/p6lq5okSeJkVDoxKXl4utjTsZEfinJ2571RbEoe8zacx2gyM7RrbYv92aKTczl9OQM7tZLOTfzLFlOYzWYWbY3gXHQmob7OTBzUGGUl5yk1Sjmt/B3YcjmH/nVcreZoTyQXklZooJ2/loWn0ojP1RPorGZUEw8UV3Om9SYz59OKKTGZCXLW4GGvZF9cPo+3MCIDIjKLkSGjnqcdRjMciM/H11FFQp6ubE53ZGMPjicXsjEqh8eaWf8MNkbmIJfB+xPLr32cXWwkMqsYOTLqe9njeEPVtLhcHYl5ehxUchp6a8vyk2+HmJwSkvMNOKrlNPTSlr2nJrPEhYxi8nUmfB1VVjWN7yWVzl44ceIEAwcOpKioiMLCQtzd3cnIyECr1eLt7c2VK1f+8Rw1dSNNkiTWLviBtb/+QH5OVtnjjdp0YsTU6Wz+Yz77N64qW2ygUmvoNPBBxrz8ls10rD9mf8zq+d8x6vk36D1sNGo7e4oLC9i4+Gf+/O4zRj7/OveNmWxxTGZqMq8+3AulQklhQV5ZWphKrUEml6MvKabngyMZ/uyrOLt5YDIaObR1LT++/QpqOzvsHZ1JT4wrO19IeEPGvPIWDVpZ7wn2b5T8MZ6Z8w4Qn1ZQ9lircG++ntqd9g2t80EBjl9KZfD0NSTfsD27Qi6jdT1v3hnfgdd+3MeJyOuj/BAfJ96Z0JHRfaxLUgLkFJTQY+oyzkZnWnzlDvJ2YsG0vnzy+1E2Hrn+ldpZq2LqsBY42Kl4Z/5BivTXR6gapZynH2xGd2XlVlld216nQ5AT41t446lVYZYkjiUV8tXBZOQyiQK9GdMN/VPIoH2gI3Xc7VkZkU3uDaPX2u52XMkqwUEtp8RoLksZU8pl2ClkFBnMhLpquJJzPWfcRaPAYDZTbJB4vIU3/eu4olHKKTKYWBuRzaIzGdQPduPcAsu0Rijd1mjolMXsi8sr66NaIaNXmAs9wlyYdyKNCxnX3xM3OwUPN/JkYF3XKv0wj8wsZs6xVCIzr6dQetgrGdHEE4VMxqIz6WQUWb5PT7byoZ7n3ZO2dtsK3nTv3p3w8HB++OEHXFxcOHXqFCqVitGjRzN16lSGDh36j+eoqaC7+KsPWLPge/oMH0vvYaNxdvfk3OG9LJszi4zkRNRqNQ9Omkr7PvcjSRIHNq9h5U9fERLekOk/LLZKybpWEGfzH/PROjrjFRBEanwMupJi7h/7FI88+z+rX9y87CyeG9QehVLJw0+9TJueAzCbjOzbsJIVc7/CeLXguEKhxC+kFjmZaRTk5iCTyZEkM2169GfQmMn4BocSfeEMK3/6msvnTjHtu0U2t4K/FVuXLeSXD6bzSM9wnh/WgjA/Zw5dSOH9Xw9zJjqTHV8+RJv6llsSRcZn03ziIlwcNLw9vgP3dwwjv0jPgo0X+Pj3IyCT0ba+D68/1pa2DXyJSsxh1tITLNsVyY8v92LCIMtdLYxGM0EP/0RWXgnDG3nQLdQZlVzGwYQCfj+TTrHBjLtWyYjGnrTyc6TAYGLL5VxWRWQhSdDIy57hjTwJc9OQlK9n+YUsjiQWMLCuK0+2/vvtlG62Ly6Prw+loDeZCXbRkK8zkVlsxFWjIEdnopmPlmGNPAi9mjK27FwmJ1JKP3ieHtKUJwc3wdtVy7bj8cz8ZT/RyXmoFTJGNPakU3DpH+eeuDyWnMnAYJbwc1QxookXTXy05BQb2RCVw8aoHNRy0JvBTinD20FFSoEBvUnC3V5JyprJZaPra4pKDHSdspSouCweaexJhyAnTGaJ3bF5/HE2AwkZgc5qHm3sSUOv0pSxdZHZbL2Sy2NNvRjWyMPqvbgVV7JKmLYtlkBnDcMbeVDf0560QgNrL2Wz8+oCjS7BTgyu746Pg4pLmSX8cS6D2BwdH/QKtqhrcSe7bUHX1dWVQ4cOUa9ePVxdXTlw4AANGjTg0KFDjB07losXL/7jOWoi6KYnxfP8/Z0Y/syrPDD+WYu2jYvn8eunb/LOgtXUadLCou3iicO8M+Ehnnn/azoNeNDmuVPjY9i7fgW5Wem4e/nSedBDNtPMAL7631Mc3raeD37fQEh4Q4u20wd28dEzo+k6eDhFebmkxMdgp3Wg10Ojmf/xG7Tq1odn3v/GIpAbDXrenTQcs9nEu7+uuZW3xkJJUSHP9mvFyO5h/PBST4trFeuMdH52KW5OGrZ+8ZDFcd2n/snRiDTOzBtNmJ9lKlSDxxbgYKdi37fD0aivz2hJksSET7awet8V4v+ciL3mets78w/y9oJDvN41gLYBlr8jcbk6pm6IZngjD0Y0sfy6vSEymx+OpvJ5vxDquF//Y5UkiU/2JXE4sYBFD9WtdEpUkcHErpg84nJ1aBRyWvpreWtHAo19tMzsFmQx9WCWJN7blcDJlEIKNj6L+oav8o+9v5Hft0bwSZ8Qq1Hc+fQipm2N4+k2PvSrY5kSt+RsBn+czWB8cy9WX8qhSG/CUa1gXAsvOgQ529yY8rsVp3j+m5183i/U6uv6/7bEkl1s5MsBoVYZEQtOprE6Ipt5Q2rjrPn366dm7ognu9jIp31D0NzwvhcbzDz2VyQ9wpx5uo2vxe+azmjmf1ticVQreK9X8L/uQ3WoaNCt9I00lUpVlhPq7e1NXFzpV10XFxfi4+Nvsbu33561y7FzcKTfiPFWbUe2r6dJ+65WARegfou2NGzdkV2r/yz33D5BoTz05AuMn/YBQyY+V27ABTi9fyetuvW1CrhQuotwWIMmnDmwixe/+IlP/tzKOwtWoXV0RFdcxIMTp1qNnJUqNfePe4rLZ0+ScDni796CCjm6YxPFRUVMH93G6lr2GiUvPdKSHScSiEmxXEJ6+EIqY/o1sAq4kQnZXErI4bXRbSwCLpTerX99dFuy83Ws2W85LfXz+nOEuGpoY6PKVbCLho5BThxMKLBq61PbFTc7BbtuWuIqk8l4pJEHRrPEivOZ//xG3ESrUjCgrhtPtvZlXAtvjiYWYpLgkUaeVnO9cpmM4Y09MUnw4ve7Ldo2HIymua/W5tfmhl5aGntr2RdnvUfa4HpuqBUydGaYO7g2i4aFM2dwbTqUU4wHYN6Gc7QNdLIKuPk6E5cyixnSwN1mofUHG5Tex9gda3uZcGVkFhk4mVLIkPruFgEX4FBCPkazxMONPK1+1zRKOQ82cOdMWhGpBRXPDrkbVDrotmjRgiNHSneD7datG2+++SaLFi3i+eefp3Hjym98WF2y0lLwDQq1ueNuVmoyofXKX90UEt6gbGvzf+tardvyhNZvQklRkWX/0lJRqtQE1KpbTv8aXn1eyr/uX1Z6Ci6OdoT42v5jbla7dGSZmG4Z8HQGE01re1o9PzGj8Opx1m0AtQNccbRXWZ0vv1BHbTdNufOKYa52ZBZZFxtSymUEuWjILLK+0x9ytSRiUhX8ESfklZ4j9IYyi5b9K338YmyWxeNFJUZq/c1NojA3DZk2shS0KgU+Dmqbr7k8iekFNvuXU2LELF3v482cNUo8tUqb72FlZV19LaFu1tfKLDbioJaXu/Lt2odFVjlZG3erSgfdDz74AD+/0hsp77//Pm5ubjz11FOkp6fz448/VnkHq4qLhydpiXEWtRDK2jy9SbgSaeOoUonRUbh6Vs328kqVioQr5e8ll3A5ArXG8o/SxcMTo0FPanxMuf0rfd6/76OLuyd5hSUkZViPIgEuxJUGER93yw8vtVLOxdhsq+f7uJU+74KNNoC41DwKig14u1meT2uvJvZv8l/j83S42NiVwWSWSMzT42pnPYJLzC89n5f23y9v9XUsPce14Gvdv6tB+aYPLzu1grhc68JKZcfl6mzuNqEzmkkvMlRq/zQfd63N/rnYKZDd0MebFehNZF3deujfunaOBBs/S1c7BYUGc7kfJPFX36d7bc+4Sgfd1q1b06NHD6B0emHjxo3k5eVx7NgxmjVrVuUdrCqdBw6lMC+XHSsWW7W16zWQk3u3EWdj4UH0hTOcObibzoMesmq7FQ3bdOTwtvUkx1pneUScPELk6WO0621Zo7dF516o7exZPf97q2PMJhNrF/xASHhDgus2sGqvrDY9+qNWa/j8j+NWbQajiVlLj9OxkR91Alwt+1jXi3kbzlkF6wYh7tQJcOGTxUfJzC1m7tqzvPHTfmYtPU5Cej6f/XEcJ62aBzpbFoIf3ac+l7NKOJ1ayM1SCvTsic2jY5D1/YA9sXlkFhvpFmoZ7CRJYvn5LBQy6BTkxPLzmfx2Op0d0bnorqYQSJLE2bQiFp9J5/cz6ZxMLsR89ZaHwWRmd2wev51O589zGfSs5YxCBsvOZ1pViCu9ViYKGXw5pZtFW582IRxLKiQm2/rD/3JWCSdTiugcbP26NkblUGww0z20/OmEm43p15AD8fkk3hRcnTVK6nnYsfJCVtlrv9G6S9mYzBJNvO1ZdTGLhafS2RiVXVZdrTK8HFQ09rZnVUQWBpPl+9Q+0AmFDFZezLI6zmiWWHUxi/qe9vg5VV1NkTvBLRe8SUtLIyKidA6xfv36eHlVfJRVU9kLP38wjR0rFjP48Wfo9dBoXNw9OXt4L0u++ZjEK5ew0zow6vnXadfnPgAObFrN71+9j7u3H+/9ttZqBHorMlOTeWlIV+wcHBn5/Ou07TUQk9HA/g0rWfz1h+h1JdRq2JRHnvkf9Vu2IystmU1L5rH+t7lA6c4T942ZXFbw5q+5X3Jq/05e/XoBzTp2/9f9A1iz4AcWf/U+Tw5uwvPDWlDL34VD51N4e/5Bdp9OZNOnD1ptDHn6cjrtJi/B39ORj57sbJG98PrcfRjNEiqFHLMkEeTtRGp2ETq9CbMk8dlTXXhhuGUJzBK9kYChcykuMTCmuRfdQ11QyWUcSMhn/ok08nQmvBxUPN7Cm1Z+DhTqzWy5ksPiMxmYJGjj78AjjT2p5WZHYr6ev85nsiMmD28HJWmFRhztVLg5aUjIKMBRrWBUEw+2XM7lcrYOF40CuQyyS0wEOasZXM+dRWczyCk2EujpQF6RnrwiA65X90frEOjI8EaeZXukLTufyd6r87KvP9aWJ+5vjI+blq3H4nn1+z1ExGVhr5LzeHNvOl4NsHtj85l/Mo1io5kwVw2jm3mV7pFWbGRjVA5/XchkQF03nmjlgy22bqTlFepoP3kJ6ZkFPNbMq6zY+e7YPBacTMNgkqjrYceoJl408taSUWRg3aVsVkVkU9fdjsvZJSjlMlztFGQWGVHIZYxr7s2g8MrVvbiQXsQb2+Op72nPyCaeZdkLayKyWBeZA0D/Oq4MrueOr6OKS5nF/H4mg/PpRbzdI5jGd8ky5duWvZCfn8/TTz/NkiVLypb9KhQKHnnkEb799ltcXFz+4Qw1F3TNJhNLv/uUTUvmoSu+Pm8aVLcB2empmAx6SooKy0YuMpkMjdYBraMzHy/djIPTP7+2ioi9dJ6Pnh5lufpMJsPLN4DRL89k6befknjDFIS9oxP3j5mMo6sby77/nLzs6zeCvPyDGPvqO7Ts2rtK+galI7W0X0bz7sLDZOVdH5HVCXBh9vM96NM6xOqYqMQcWkxYhMlsRme4Pnq6do/JLMET9zdmxph2+Hs6kl+kZ87qM0z7cR8vDm/Jx5Otl1OnZBXS+dmlRCdb3tBxc9RQWGJAq1GSU3h9FKdSyEpznQ0mlHJZWXFvKC2daDKDnUrBl89157G+9bFTK7mSlMtL3+5m3YEreGpVPNPWl6Y+V6dEMor57nAKSfl6ujUL5JsXelA/2B29wcTSnZE8O2s7mE0U2cjT1arklJgkFAo5JTeMEN2cNOTk63DSKMrKRF7jYa/kiVbeLDmbSfQNebp2SjmD67kxoolnWbnHm9kKutfew8FTFnMs6fo3BrkMOgc70yvMmZ+Op1lMM2hVcsJcNZxLL+axpl4MDHdFq1KQXWzkz3MZrIvMYWp7P3qGVe5v4XRqId8fSSUp//q1HNVyHmrgjlIuZ+m5DPL1139v/BxVTG7tS3O/u6dc6W0Luo888ggnTpzgm2++oUOH0oT8AwcOMHXqVJo3b86SJUv+8Rw1XWWsKD+P0wd3oysuIrB2OOcO72f5nC/4YtUeTEYDESeOIJPJqHd1NdmLQ7oycup0BoyaWKX9OH1wN4e3rkcul9N18HDqNG4OlAa9yNPHSI69gr2DE007dC1bnGHQ6zhzcE/ZxpQNW3e4LTtGPJL7GcU6I5uPxJKVX0KYnwtdmwYgL2e10tOztrN63xUu/DqGrcfi2HAwBo1awZP3NeG+6atoXseLFe/db3Vj7L1fD/H+b0eI/3MCni628zGPRaQyb8M5DEaJB7vU5vdtEew7k8SZeaO5lJDDqah07NRKercK4tilNAa8upI1Hz3A2SsZRMRnE+TlxP0dQ2k7+Q/mvtKb8QMtb2TO/uskL8zexXeDall9lc0qNvLE6stMf6wtb46zzINesSeKYW+u4+1ugeyMyyOlQI+vg5qeoc7M2JnA7zMG0L9tCJuPxlFYYqBRqDvNanvS9skl2Ol1PFjfjV0xpTv9dg9zocHVgueSJHEps4SEPB12Sjkt/BxsZhncqLygC6WV1ZLyS0tOymTQ2FuL59V5bUmSuJhRXLYFe10PO55ae4UH6rszuqnlt1dJkvh0XxJRWSX8cH+tcj8AynOtqllKgR4HtYIWvg5lGQ06o5mTKYXk6034OKho5K2t9Plr2m0Lug4ODmzatInOnS1HJnv27KF///4UFlrPwd2spoPuzV4fNRDf4DCmfPitzfYvX3mSrLQU3lmwqpp7VnMqW9rRc/APPHl/E96fZFnM50RkGq2fWMzmzx6kVyvrfMuM3GL8hs5lzku9rIKhLWazhNOAb3n9sbY2t2CXJIkGY36lW7NA5rzcq+zxdxcc4stlJ0haPtEqda3bc3+iy8rjjXIqhX15IIk0lJye95hVX8Ie+ZkWHmomtrz+tX/+iTT2pxQTv2yizWXO3688xZSvdrJ4WLhVvd1b9U9Bt6J2ROfy5cFk5g+pg5uNAuzn0kpX6H3aN4Twu2TRQnW5bXm6Hh4eNqcQXFxccHO7tRqnNa2oIB8PH/9y2z18/CgusM6dFK7LLdQT6G39AZp79et/kI02AE8Xe7QaJXmF5d/Rv5HeaKJEbyLQy/b5ZDIZQd5O5N50vpwCHT5uWquAC5BboMNTW/4dck8HFbkF1v2Ty2X4ezpSpLe8GVVkMOPn4VBuXYlA79JNK0v+Zg+4mlJkMJfN49py7X26+TULFVfpoPvGG2/w4osvkpJyPSc0JSWFV155hRkzZlRp56qLb3AYESeP2GyTJIkLxw/jGxxavZ26y9QNcGXfGevdeWv7uyCTwV4bbVA6Ei4oNlD7pmyI8mhUCgK9HG1eC6Cw2MDRi6lW2RV1g1y5nJRjMxUuPMiN8+nFVlkI15xLK6KujaLpOQU6zlzJwP+mKQk/JxUX47LJzLVd52Hv6SQcNQqcNHfeRqJ+TiqMZonILNu7GJ+/ukOwr5PYVeJWVToB7vvvvycqKorg4GCCg0u/LsbFxaHRaEhPT2fOnDllzz1+3Drt6E7U88ERzHr5CY5s30CbngMs2g5tWUvMxTM8/NRLNdS7u8Ok+xozbe4+Hu5elyMXUzl2KRW1UsGA9qHUCXDlvV8PEeDpwF+7LxOTmoeHsx3Du9flxzVn8PdwoERn5JG31pFToKNOgCsT72tMi7reVteRyWRMHNSYjxcf5ekhTa0qn328+Ch5RXokSaLe6AVk55fgaK/ikR51ARnT5u5nQNsQlu+OJL/QQL1gN1rU9WL57ig2RuZQYjJzJq0IJKjvZY+3VsX59GI6t3OhzZO/E5uSj0opZ1D7MFRKOXqjGT8nFV8eSCJbZ8JVo6BdgCMms5m35h/k6+e6W8xjRyZkM3ftGXqGOpdbzSsuV8fmqBwS8vXYKWR0CHKiY5ATqgpUZPu3mvk44O2g4rdT6czoFoRKcb2PBXoTy85n0sTbnlMpRfycVJoBUctNQ786rvg43lpql8kscTSpgN2xeRToTfg4qOld2+Wenb6o9Jzu22+/XeHnzpw50+bjd9qcrtls5uvXnubYzk10H/Io7XvfV1bwZtfqP2jXexDPvP9NlW+Jcyer7Jxusc5I8/G/cTkpFzuVnKY+WooNZs6kFiGTgQRIEgT7ONGmvg+RCTmcvpyBXAbB3k7EpOYT7mGPp1bJpawSMgoNPD+sBZ893cXq5lt+kZ6ezy8nKimHZ4Y0Y0C7ULILSvhl/XlW7b1cej2pdGFCq3renI/J4sLVlWFyWWkmRT1Pe9ztlVxILyanxIgCkGSlmz0283VALoNTKUVlGRAS4HD1deWUmLiQUYxcBp5aFWmFBsIDXWlS25NzVzK5GJ9NiEvp4o6+rYN5YnATfNy0bDsWz9fLT6CVw4e9gnG2MdJdcjaDxWcy8HKxo0uzQFIyC9l/LplgVw0zuwWW3QC7WVXN6QKcTCnk3V0JhLioua+eO/5Oai5nlbA6Ios8nRGNQk5OiYkmPlq0KjlnUosoNpp5qrUvfeu4VupaBXoT7+xKICKjmNpuGnwc1URlFZNWaKR/HVeebO1z19xQu2030qrCnRZ0oXQfsjXzv2Pz0gXkZKQB4O7tS99HxnHfmMm3JUPgTlbZoLv/bBLdnvuTXmEuTGjpU3aDKLVAz/t7EonP1fHllO5MHtykbK5zx4l4BryyAjuFnBndAsvqEZjMEusuZfPziTRmT+3OU0OsF93kFuiYOe8gCzadJ+/qvHHDEHf0RhPRyXn88lpfRvaqh1wuQ5IkNhyK4cHX1+ColvNmtyBqX91+x2iW+P10OisuZtHIS8vLnfzLVkDl60x8dSiZo4kF9KntwqRWPmVbmcfn6nhnVwKZRQZ+fb0/j/QMRyYrvdaqfVcY9c4GGnhoyNWbuXL1q7qdUk63EGdGN/O0WUhmd0wenx9I4q1x7fnfyNaor2YsnIpK54Hpq9GYjXzWJ8Tm0uiqDLpQmlv7+5kMTqeWplbKZdDa35HIzGKcNUqmdw3A9+rItsRoZv6JNDZG5fBuzyCa+FQ8zeu93QlcTC9iWpfAsm2DTGaJzZdzmHM0lTHNvRjaoGqqnd1uVbpH2s1ycnJYtmwZly9f5pVXXsHd3Z3jx4/j4+NDQED5xV7uZAqlkiETn+O+sU+VLreVyfANCkWhvLeWIN4uXyw9TqCLhqfb+lqMTHwc1UzvEsDkNVfQqBUWN5ectWoMJomXOvhaFIBRyGUMru9OVHYJn/9xjCcHN7VKVXNx1PDllG58MKkj0cl52KkVONqrCB7+My8Ob2lRo1cmk+GkVWM0Szzf3r8s4EJprQaVQoZKLuO1LgEWxb2dNApe6ejP+FVRqBWysoALEOSi4dVO/ry8OZaz0Zk8evU1y2QyhnSuzZvj2vHWLwf4aXAtSowSJUYJLwdlualfkiSxIiKLAW1DmDG2nUVbszpezJ/ej14vLOd0ahHNytm2pyo18NLybs9gsoqN5OmMuNurOJpYwOHEAt7vFVIWcKH0w+SJ1j5czChmVUR2hYNufK6OI4kFvNDez2KfNoVcxoC6bkRn61gdkc3geu63tbB6dat0RDl9+jS9e/fGxcWFmJgYJk2ahLu7O3/99RdxcXH8+uvdvWmiUqUqt7DMv+XwaZ9/dfzfjWZq2qbDMTxU393mV0FfRzWNvLVsPBTDxBvq5m4+EoujRkHbAOtKYgA9Ql14a2c8lxKyqR9sewcPrZ2KRmGlI6HPlhzFaJIY0896OfTGQzF4aFU0t7Hf2fHkQtoHOlkE3Gs0SjldQ5w5nmydClnXwx4/RxWr9l7mvZt2bRjTryHT5+7nbFpxWc3cv5OrM3Elq4T3+llXnwPo1iyAQE8HjicXVkvQvcbdXon71dSx48kF1PO0J8DZeu5WLpPRI8yFBSfTkCSpQgXQT6YUolbI6GRj2TNAjzBnNl3OISZHZ7Ux6N2s0pOUL774IuPGjSMyMhI7u+tvxMCBA9m9e/ffHCncy/RGM3bK8v/QNEoZeoPlCiy90YxaIbe5VTlQdr6bjytP8dWVXw521vOeeqMZjVJuMxgYzdLf1te1U8otVrfd3GYwWadPOVydoijvOFt9AHCwkRsLpSNoBzsVhgqe73YwmiXsFH//MzZJpfPfFWEwSyhksnJHsdd+JhV9D+8WlQ66R44c4cknn7R6PCAgwCKNTPhvaR3uzZFE2wtjCvQmzqYWWe020bqeD1lFBiIzbadWHU4swMVBTd3AiuV/39+xFjIZVrV5AdrU9yEpT2ezwlddd3uOJBVgsvHHLUkSBxMKqOtufSc9vdBATI6O1vWs6yGs2lfahzo2jrPFzU6Jp4OKtfujbbZfis8mIiGH8Boc8dXxsOdCRrHV8uVrDicUUNvdrsI3vuq621FsNHM2rchm+6HEAjQKGUE2RtZ3s0oHXY1GQ16edXHjS5cuVarojVB9NhyK4b7XVuH9wBz8h85l7AebOH4prUqv8czQ5pxMKWT7lVyLx01miR+PpqI3SXRobBl0W9b1QqOS882hZH46lsqk1ZcZuewSL22K4deTaayLzGbCoMYWO0pcI0kSy3ZF0vvF5Xg9MIfAYT8xZ/VpfN20vL3gEBFxlqUk29b3QaWQ8d3hFIoNliPTOu4asoqNLDyVbpWru+x8Jkn5emrdVA9WbzLz3ZEUZDKYMtTyRl9sSh4zftpPCz8Hm1/FbVHIZfSr7cKCjefZeizOoq2w2MBTX2zD1V5ZViCnJvSuVbooas7RFKvR566YXI4lFzKormuFz9fYW0uwi5qfj6eRp7OsmXslq4TVF7PoEeaCg41pn7tZpbMXJk6cSGZmJkuXLsXd3Z3Tp0+jUCgYMmQIXbt25csvv/zHc9yJ2QvVoSbmdKfP3cfHvx+lVbg3D3SuTbHOyJLtEcSl5jN/Wl9G9ra9KWRlmc1mmk1YxPmYLBp52dMu0Ilig5lt0bmkFRpQKeVIEgzvUZe29X25nJTL/A3nKCw2gKx0s8QeYS54aVWcTy/iaFIhchkcnzuSJrWtawA88dk2fll/ji5N/enfNpTsfB2/b7tIZm4JICFJ8GiverSs601EfDYLNp1HbzChAOxVcnqGueBur+RsWhGHEwtwUivI1ZkIclHTPcQFuax037Ir2TpklH5lbunnQEs/B3J1JrZezrm6/boMZHJG9qlPkzBPzsVksmjLRZzVct7vGVRuipctBpPEB3sTOJlcyMD2YfRqGURKdhELNpwnt6CEN7oGlltxq6qzF8qzPz6Pz/Yl4eWgonuoM1qVgqNJBZxOLaJnmDNT2vlVKsUrNkfHjO1xmCSJHqEu+DiW7pG2Pz6PUFc73u0Z9I91J+4Uty1lLDc3l2HDhnH06FHy8/Px9/cnJSWFDh06sH79ehwc/nmSXwTdW1PZoLv+YDT3T1ttVTrRaDIz6dOtLN4WQcTCseXuElEZf+6M5NG31/P4wIZcisvm+KU0VEo5A9qFkp5bwr4ziXRuEsD+c8no9CZUSjmNQt04FZVBkIuGd3ta5q2eSyvizR3xaNQK8jY8Y3GteRvOMfGTrcx7ra/FTbMSvZHhb61n18kE2tTz4eD5ZHQGEyqlglbh3nz/Yg8OrDjIqogs9sflU2w0E+CkprW/I3+ez6RdoCNmCc6kFgESDTxLtyrfE5dPmKualAIjJUYzchl4O6jQKGRkFBsZUNeNPXH5ZBUZcNeq6B7ixKBwt1vaX8xolth6JYfNl3OJz9Njr5TTIdCR++u5Eehse6cHqL6gC5Tl7B5JLMBglqjlZsfAuq50DXG+pR2E069uUrkrNo8CnQkfRxV9arnQv65bpfeyq0m3LWXMxcWFLVu2sG/fPk6dOkVBQQEtW7akd++qKy0oVI1v/jpF2/o+VrVqlQo5s6f2YOXey8xde9bqzvutmP3XSXq0COSnV6w/WLLzSwh6+Gd6tAhk8+fXd4vu89JyTBI83cbXaqFAI28t94W7sToii5iUHEJ9Xcvavl1xikEdwqyyFOzUSn58uRchw39hcKdabJ1lXXg+xknN5Na+TL5hR+AfjqTgZq/k1U4BVjd1zJJEZNYVAp01fDnAstB6aoGeJ9dcwdtBxZz7LNtulVIuo38dN/rXqdg8dk2o7W7HCx3Kr1VSWdfqIj/ewnoF4r3olj9GOnXqxNNPP82rr74qAu4d6vCFFB7oXNtmm4O9ij6tgzl0vmr2fjt0IYUHOtm+lpuTHd2aB3DwguWN1mOX0nBSywn3sH1zqP3Vked3K0+XPaY3mDgRmc4DnWwHOV93Bzo28rO61t+5lFlMG38Hm3fR5TIZHYOciMi0rkXg46imlrsdERm2bwQKgi0VDroHDhxg7dq1Fo/9+uuvhIWF4e3tzRNPPIFOV7FKUUL1UMhllOjL39SvRG8qtxJWVV9LpzehvOlaMmQYzaXLcm3RX60Mbq+5Pi8ql8uQyUrPV54SvdHqWn9HLpOVXau8fpSXKWUwmctNeRMEWyr8m/nOO+9w7ty5sn+fOXOGCRMm0Lt3b1577TXWrFnDhx9+eFs6KdyaPq2DWbwtApONPNK07CK2HI2jT2vrGrcVIUkSCen5RCfnYjCa6NM6hN+3Rtis1BWXmseuU4n0bhVMQbGeqMQcsvJKGNKlFsVGs82FBwA7Y3JRyOCVh1uUPaZUyOnZIohFWy/avFZEXDaHL6bSu1Uw+UWl18rOt10x65rmfg4cTiygyEY+8LW90ZrbWJBwJauEuFy9zQUXQuXl6Uwk5+utskvuNRUOuidPnqRXr+tFoZcsWUK7du2YO3cuL774Il9//TVLly69LZ0Ubs3UYS24kpzHU7O2U1RyfcfV9JwiHnlrPQ52Ssb1t70CqjySJPHrpgs0n7CIkOG/UGfkfEKG/4Kbo5rTVzJ4/ptdFiPe5MxCHn17A+5OGvaeTsT7gR+pN3oB3kPmkJiWj0IGsw8nE33DRo1mSWJjVDbbo/PwctPi6Gg5/fDC8JYcPJ/C9Ln7LBZOxKflM/LdDfi6a9lwMBqvwXNKr/XAjwyZvpoTkbbT5PrVdsVklvhsf5LF5otFBhNfHkwmX2dChmWSfkqBns8PJOHnqKJdwH/nZvDtcDGjmLd2xPPYX5FMXnuFMSsi+epgMumFFd9u/m5S4ewFOzs7IiMjCQoKAqBz584MGDCA119/HYCYmBiaNGlCfv4/F/sW2Qu35lZSxhZsPM8Tn23D0V5F3zYhZVvwaO2UrP5gMB0bV+6GyMxfDvDewsMM7lSLMf0a4GCnYs3+K/y87hyhfs5EJuTg5qihT+tg8osNbD4Si7O2NFfVTq3k2aHNaFPfh6jEXL5bcYqzVzKQycAkQQMve3wcVJxLKyK9yIgMuLRwLLUCXa36MWvpcV7+fg/ebvb0ahlMdkEJW47E4e5sh95gwk4Gg+q6EuaqITFfz7qoHDKKjczsElC2Lc6NTiYX8uHeBMwStPJzQC6TcTy5EKNZon2gI3vi8nGzV9LUW0uuzsTp1EI87JW81SPob7MKqkt1Zi9UpePJBby/O5EgZzWDwt3wcShNGVsbmY0c+KhPCN4Od0ft3ipPGQsJCWHhwoV07doVvV6Pq6sra9asKRv9njlzhm7dupGVZb2d8s1E0L01t1p74UpSLj+uOcPhCykoFXL6tglh3ICG5e5JVp4zVzJoPmER703owLSbtsrZeTKBPi/9xRtj2pJfqOdYRBoqVWnd2U1HYrkUn83+bx/B2+16wMstKMFv6E/0bBlEkLcTK/dEoTOY8HK1Z1z/hsxecYq+bUKY91pfm/05H5PJj2vOcioqHY1awf0da7Fs5yWiYzP5sFewRZFwndHMWzsTyC0x8u2gMJupTdnFRrZczuF0ahES0NDLnr61XfFyUBGTXcLGyznE5ejQKOW0C3SkW4hLlW2382/djUHXaJaYtPoyoa4apncJtKjdm1Vs5NXNMdT1sOd/ne+OIlpVnjI2cOBAXnvtNT7++GNWrlyJVqulS5cuZe2nT5+mdm3bd6+FmlXL34WPnrTebbeyflp7Fl93LS8/2sqqrXvzQAZ3qsXqvVc4Nndk2eOJ6QW8/P0evnuhp0XABVh3MAadwcSXU7pRJ8CV71/sadGuVMiZOe8gs57thquj9WiyYagHX07pVvbvqMQcnvt6Jy928LPalUGjlDOqqSevb4vjXHqxzUUGbvZKhjf2ZHhjqyZC3ews0syEf+9YUgFZxUbe7GYZcKG00M6DDTz46XgqOcVGXMupSXE3qvDH9LvvvotSqaRbt27MnTuXuXPnolZfX+L4yy+/0Lev7RGJcG+IiM+mY2N/VErbK4S6NQ3gYpzlN52oxBzMZoluzaxHK5fiswn0crTaWuears0C0RlMxKZYLzu35VJ86dLf8lZtNfSyRwYk3rDluFBzEvP0OKjkhLnZThls7K3FLEFywb3186rwx4enpye7d+8mNzcXR0dHFDcV9f7zzz9xdLRdok+4Nzhp1SRnlr/bc3JWIU5ay1oD1/6dlFlI+E37jDlp1WTn6yjWGW3WV0jOKr2Ws0PF6hdcu1ZWsREPG8tvc0pMSID9XbTK6V5mr5JTYjRTqDfZrK+QXWwse969pNKvxsXFxSrgAri7u1uMfIVbJ0kSl7NK2B2bx7GkAvQ2Ur5sySnQsWrvZZbuuFQ26qtKD3Wrw4FzyTazAAqK9fy66QLDutUlKjGHpTsusXLvZUJ8nKjt78J3K0+VVuw6n8yS7RFsORrLoPZhFOkMLNh03up8kiTx/arTtAr3JrSCy5TbN/TFz13L+kjbr319ZDYahYyW/uUvVY/NLmHeiVR+OZ7KpXKqn1WVzCID++Ly2B+fR1Zx+TnO96q2AY5IwJbLOVZtkiSxPjKbACc1IS41f6OyKt07EyX3iMjMYr4/msrlG3ZjdVIrGNbQnUHlFIc2GE1Mn7ufH1afpqjk+h9vr1ZBzH25d5XUVgAY2qUOjULdGTxtNb+81oferYKRyWSci87kqVnbyS8ycOZKBvVGLyg7xl6jpHMTf5bvisJnyBwy864voHHRqkCCF2fvRqWQM7pPfTRqJcmZhcycd4CtR+P46937KryeX6VU8PpjbXn2q5242SkZ2tADR7WCYoOZjVHZLD+fydAGHjaLlWcWGZi+LY7UAkNZPdhVEdl4apW81zMYP6eqG1AU6E38cCSFffH5ZQtDFDLoHOzMk6197rmqWuXx0KroV9uVhafTUSvl9ApzQaOUk1NiZOnZDA4lFvBiB79bqudwJxNB9w4Sk1PCG9vjCXBWM6NrIA297ckoMrL+UjbzTqYT/Osh3hzb3uIYSZJ4/KMtLNsVyWsjW/P4gEa4OGpYdyCamfMO0G3qnxz8/lF83f/9bgMqpZwAT0cuxefQ/5WV+LprcbRXEZWYi/pqFbHolDzmvdaX+zuGkV+kZ8HGC7y38HBpkRi1nKk9gqjrYUdKvoFVEVnsjDHQOMyDJz7bxqs/7MXXXVt6PpWcOS/3KncZc3kmP9CUnAIdb88/xJrIHHwcVWQUGtAZzTzzYDN6qKwXSpQYzUzZEI3JLPF4C2+6hjgjl8G++Hx+O5XO8xujmXt/bZzt/v2fi95k5q0d8SQX6JnY0qd01wSptKLZ4jMZpOzU836v4GrZ+fdOMLGVDwazxJyjqfx2Kh03eyUpBQbkMpjUyptuoS413cUqJ4LuHWTR6Qw87JW83zO4bB4r2EXB5Da+OGoUfLDwCJMHN7XIAjh8IZXF2yKsKm6N6lOf7s0DaTr+N2YtPcHHk/999sKOEwlsPhrHHzMH4OPuwIZDMegNJtrU96V5XU9aTvyd4d3rlvXDzcmOGWPb8duWC8iKdbzbM7jsLnUtdwUvdPBHrZBxMCGbIz8+yrr9MVe3YHdhRO/6NjMW/olMJmPa6LaMH9iI37dGEJ+ej7erlhG96hHi62wzferXU+kU6s182DuYhjfk8A6s60YDT3te2BjDj8dSebnTv09d2hWTR1RWCZ/1C7XYgub+eu6Ee9jz6pZY9sbl0yPs3gs2tijlMqa082NYQw/2xOaRpzfh66iiW4iLVQbKvUIE3TtEns7E0aQCnmjlY/PGwQP13Fl1MYsl2yJ4btj1ZbG/bjpPiI8To3rXszomwMuRsf0bsGDT+SoJur9uukD9YDce6lYXmUxGl6aWQWh0nwas3HuZz57uWvZYRFw2UYm5vNY5wCotCGBYQw82X84lIi7HakPGf8PH3cGqulp59sbm0cDL3iLgXhPmZkebAEeOlbNUubK2R+fS0s/B5p5f9TztaeajZXt07n8m6F7j56RmeGPPmu5GtfhvfIe5C+SWGDFLEOpqe3TnpFHg4aAi6absgeSsIhqEupdbuKZxmCfpOcU26y9UVnJWIY3CPMqdY2sc5kFSxs39K/13SDmvy8dRjb1KTsrfZEXcbnqTRFg5/YPSvhv+piBOZWQVG8t9LwCCXTX/yZtq/yUi6N4hXOwUyGUQa2MPLyi9+ZJZaMDfw3Ju1s9dy4WYrHKD6rnoTLxc7aukmpifuwPnY7JsFpoBOBeTiZ9V/0r/HZtj+3WlFpQWOPH1qL4dbm+mVsiIKad/UNp3W6P0W+Furyz3Zwyl25K730MLAQRrIujeIZw1Slr7O7ImIpsSo3UAXXUxCwkZj/aynEYY068hsan5LN5+yeqYpIwC5m88z9hytvWurDH9GnAhNouVey9btcWk5LFw8wWG3HTjq16wG3X8XVh+PtPmrq7Lz2fhrFWVWx+3OnQOceZ8ejEX0q03SIzJLuFIYgGt/KrmQ6FnmAvHkwotslOuuZRZzMmUInr+x6YW/mtE0L2DjGriSVqhgWlbYzmaVECxwUxCno4fjqaw9FwmLz/aymopbdsGPjzaM5yJn2zh7fkHiUvNI7dAx+9bL9Jt6jIc7VW8MLxFOVesnB4tAunWLIAR72zgw98Ok5CeT06BjgUbz9P52aWYzKWbRS7cfIGcAh3xafm89+shYlLzuZxdwls74zmdWkixwUx0dgmzDiSx6XIOH0zqhNbGtunVZUwzLxxUct7aGc+aiCxyio3k6YxsiMzm9e1xaJQynmhlvePvregW6kxtdztm7ohjfWQ2uSVGckqMrL2UxVs74gn3sKNzDW4+Kdx+ld4jrSr8VwvePJL72d+2X9u118NZY5HP6mCnRGcw81DX2vz+5kCr4wxGE9N+3MecNWcs83RbBvHjK70rvLjgnxQU6fEb+iMSMsxmCd0NZRXdne3IyS+heR0vjkemlz1ur1EycVBjBrYL5YXZO7kYn1PW5uNqzzsTOzJxkI1iB7dJecVfMosMTN8aR2rh9TxdAA97Je/2DK7wrr4VUaA38f2RFPbflKfbKdiZybeYp3s3Fry519y2PdKE2+e9Xw/RrVkAWz4fysmodC4l5OCsVdOzZRC/b73IE59tY+a4bOoFWy6nVSkVfPZ0V94Y044dJ+LRGUw0r+NF/WD3Ku3f6z/tp0hn4sicEYT4OLHrVCJ6o4nW9XzwcdNSe8Q89EYzF34dw/HINNRKBT1aBOLmVHqn/uyCMRw4l0xsaj4eznb0aBFYbh2H6uahVTFncG2uZJewIzoXCegS7Ew9z8pVYqsIR7WCVzoFkFFk4GJGMTKgvqe9zaXLwr1HBN07RGJ6AQfPp7D4zQEoFHJa1fOhVb3rX2lH9anPy9/v4a/dkVZlFa9xddTwYJc6t62Pf+2Jom0DH1qGl24gOLSr5bXGD2zEl8tOEB7kZlVnAUpzaDs29qdj9Q1sK62Wmx21yinAUtU8tSo6B4tA+18j5nTvEPnFpZWU/D1t37CxUyvxdLEnr6jmKi7pDSYCvcqfDgrwdMRURalVgnCvEiPdO0SglyP2GiW7TyXSuYn1yqeYlDyik3OpV8VTBpXh7+HI7lOJGIwmm9MCO07Eo62CpbK3060WgheEqnJn/4XcQWIunmXb8kUkRkdip3Wgba+BdOw3GLVd1cz5OdqrGdm7Hl8vP8nI3vUtbn6ZTGam/bgPJ3sVdioFw95cS0ZuMUHeTowf2IjuzQOrpSjIjLFteXjmej7/4zivjWpj0bbzZAJr9kfzcPe6t70ft0tqViE/rz/HjuPxSECnxv5Mur/x347uBaGyRPbCP5AkiT9mf8zqed/i7uNH/ZbtyM1I5/zR/XgHhjD9+9/x8g+q0Ln+KXshNauQLlP+JLdQzzMPNqVL0wAS0gv4YdVpDl1IITzIjYi4bNo18KV2gAsnItO5EJvF8B7h/Dq9b7XclGoxYRGnr2QwuFMtxvZviIOdktX7rjB37VnsVAoSlk3EUXv3lfjccjSWYW+uw2SW6Nc2BIVcxqbDsRiMZhbN6H9b58pvN5G9UD1E9kIV2bNuOavnfcuI56YzcPQkFMrStywxOopPp47ls+fH8+GSTcjl/3563MfdgT3fPMzMeQf5bMlx3p5/CIBuzQLo3MSfM1cy2fHlMLpe3YVBkiSW7ohkzAebqO3vwnsTO/7rPvyd3AIdCen5eLnas+VoHKv3XQFKq495ONuRklXE6SsZld7ssqYlpOfz0Ix1dGnmz2+v9y/Ltsgv0jPxk62MfHcjJ34aWeXZIMJ/kwi6f0OSJNYv/JFW3fpw/7inLNoCwuow+e1ZvDPhIc4e2kPTDt3KOUvl+Lg78MNLvfj86a4kZxXirFVTUGwgfPR8fnipV1nAhdJsgEd6hnP8UhrfrzrN9NFtbusig4WbL5BXZODK4sfx89By5GIqRSUG2jX0xU6tosnjC/lq2cm7Luj+uOYscrmMxTMG4OxwvS6Ck1bNr9P7EvboPL5dcYpvpvaowV4K9wqRvfA38rIyiIu8QKeBQ22212veBk+/QE4f2FXl13awV1EnwBVvNy3bjscjk8kY2cu6khjAqD71yCnQceRiapX340abj8bRo0UgAV6OyOVy2jX0o0fLYLR2auRyGSN712fz0djb2ofbYcuRWB7oVMsi4F6jUSt5uHtdNh+5+16XcGcSQfdvmEylq7tUattVoWQyGWqNHSaTyWZ7VTGazMhlMtQq23O21/YXM1ZBJbF/6oeduvwvR/Ya5W3vw+1gNEkVeF0iFU6oGiLo/g1XD288fP05tmuzzfbEK5EkxURRt0nV1DYoT7sGvhhNZtYdiLbZvnLPZTQqBc3reN32fmw/Hk9eoe0qWSv3RNG+wd23TXnbBj6sOxiNwWj94Wk2S6zce5l2De++1yXcmUTQ/RtyhYI+D49hz9rlnNy3w6KtuLCAn99/DVdPb9r0HHBb+9Ey3JsOjfx49Yc9JKTnW7Sdikrn48VHebRXOB4uVb9k9UYTBjXCYDLzzJc7rEa03604xb6zyTz9YLPb2odrjEYzz8zajtug71D1/Ap1r68JHzWPZTutq63d6HJiDlO+2oH/0Lk4DfiW1k/8joeLHSlZhbz6w17MN1RCkySJd389RGRCDs8MqZ7XJdz7xI20fzBw9BNEnj7GJ1PG0LRDNxq16UROZhp71/2F0Wjgf9/8Wu70Q1X6dXo/er6wjIZjFjKiVz3qBrpy7FIaK/ZE0STMky+eqZobeX8n0MuJBdP68tj7m9h/NpkRverhaK9i9b4rHLqQwvPDWliVdrwdjEYz9ccsIDo5j6Y+WlrXc6NAb2J7dC6Pvr2B16IybGZy7D+bxKDXVmGvVvJY3wb4ezqw61QiHy46Sr0gN75efpLNR2IZ3iMchVzG8l1RnL6SwfsTO9Kpyd11c1C4c4k83QowGY3s27Di6uKIKOy0Wtr1GkjfRx/HJzCkwuf5pzzdf5KeU8T3q06zaMtF0nOKCfZxYvyARkwY1BgH++pbw38yKp2vl59g46HYsoI3zzzYjPs6hFXLIo0xH2xi0ZaLvNzRny4h1/MhDSaJz/YncjixgIsLx1I7wLWsTW8wUXvkPGr7u7D2owdwtL+eS7zzZAIDX13JiF7hFJYY2XEiAUmS6NTEnylDm9OzZcXysO9UIk+3elQ0T1cE3Wr0b4OuUMqp/2wae9rzetdAq7acEiOPr4xiUIcwVr4/uOzxP3dG8ujb6zn9y2gahXlYHTflqx0s3xVF7NLxd0zls6oigm71qGjQFXO6wl2loEhPkc5EuwBHm+2udkrqe9pzKirD4vEjF1Oo7e9iM+ACDO5Ui9TsIhLSC6q8z4JwIxF0hbuKWln6K1vyN6lpJUYzipv2NFMp5BTpjOXu71Z4tfi7Sin+JITbS/yGCXcVtVqJh7Md26/k2gygcbk6rmTr6N/Wcq69X9tQkjML2XoszuZ5F26+QKNQDwI8bY+gBaGqiKAr3HVeeqQll7N1/Hw8Dd0Nm3gm5+v5eG8iaqWcDyZ2sjimS1N/2tb3YeInWzkZdX07IYPRxCeLj7Jyz2VefKRltdwIFP7bRMqYcNf538g2nLiUzp+7ItkWnUszXwcKdCbOpBWhUsj46737cXa0TOOTyWQse+c+Bry6klaTfqdjIz/8PR3ZdzaJ5MxCpo1qw9h+DWroFQn/JSLoCnelJW8N5MnjcUybu59LSbkoFXJG9anPZ091sdox+ZoAL0eO/jiCv/ZE8efOSLILSniwS20m3deYprVv72o+QbhGBF3hrtWjZTAHvw+u1DFqlYJHe9bj0Z62iwcJwu0m5nQFQRCqkQi6giAI1UhML9xldHojW47FkZFbQrC3E92bByKXizvugnC3EEH3LvLjmjO8+csB0nOKyx4L83PmqyndGdQhrAZ7JghCRYnphbvED6tP89QX2xnYPpQz80ZTvPlZ9n07nPAgNx58Y43Y2UAQ7hIi6N4FikoMvPHTfiYMasQv/+tLw1AP1CoF7Rv6seaDwXRpGsC0H/eVu8RVEIQ7hwi6d4F1B2PIztfxvxGtrdoUCjkvPdKSk1HpnLmSYeNoQRDuJCLo3gXSsotQqxQW9WFv1DC0tHJWSlZRNfZKEIRbIYLuXcDf0wG9wcTFuCyb7acvl45wRbEWQbjziaB7FxjYLhRPF3veX3jYat5WbzDx6eKjtKnvU26tWEEQ7hwiZewuoFEr+WRyZ8Z/vIVinZGXHmlFeKArRyPS+HDRYY5EpLL5s6E13U1BECpABN27xNj+DVGrFLw+dx+dn11a9niTWh5s/PRBujYLqMHeCYJQUSLo3kVG9KrH8O512X8uuWxjylbh3qIGrCDcRUTQvcsoFHK6NBWjWkG4W4kbaYIgCNVIBF1BEIRqJIKuIAhCNRJBVxAEoRqJoCsIglCNRNAVBEGoRiLoCoIgVCMRdAVBEKqRCLqCIAjVSARdQRCEaiSCriAIQjUSQVcQBKEaiaArCIJQjUTQFQRBqEYi6AqCIFQjEXQFQRCqkQi6giAI1UgEXUEQhGokgq4gCEI1EkFXEAShGomgKwiCUI1E0BUEQahGIugKgiBUIxF0BUEQqpEIuoIgCNVIBF1BEIRqpKyJi0qSBEBxYUFNXL7G5BXqaroLwn9QkcFU0134T7j2Pl+Lb+WRSf/0jNsgISGBoKCg6r6sIAjCbRcfH09gYGC57TUSdM1mM0lJSTg5OSGTyar78oIgCFVOkiTy8/Px9/dHLi9/5rZGgq4gCMJ/lbiRJgiCUI1E0BUEQahGIugKgiBUIxF0BUEQqpEIusJdTyaTsXLlynLbu3fvzvPPP19t/fk7O3fuRCaTkZOTU9NdEWqICLrCLUlPT+epp54iODgYjUaDr68v/fr1Y9++fTXdtTvGnRTshTtHjaxIE+5+Dz30EHq9ngULFlCrVi1SU1PZtm0bmZmZNd01QbijiZGuUGk5OTns2bOHjz/+mB49ehASEkLbtm2ZNm0agwcPtnjexIkT8fLywtnZmZ49e3Lq1Kmy9rfeeovmzZszZ84cgoKC0Gq1DB8+nNzc3LLnHDlyhD59+uDp6YmLiwvdunXj+PHj/6r/Op2Ol19+mYCAABwcHGjXrh07d+4sa58/fz6urq5s2rSJBg0a4OjoSP/+/UlOTi57jtFo5LnnnsPV1RUPDw/+97//MXbsWIYMGQLAuHHj2LVrF1999RUymQyZTEZMTEzZ8ceOHaN169ZotVo6duxIRETEv3pNwt1DBF2h0hwdHXF0dGTlypXodOXXk3j44YdJS0tjw4YNHDt2jJYtW9KrVy+ysrLKnhMVFcXSpUtZs2YNGzdu5MSJEzz99NNl7fn5+YwdO5a9e/dy8OBB6taty8CBA8nPz7/l/j/77LMcOHCAJUuWcPr0aR5++GH69+9PZGRk2XOKior47LPPWLhwIbt37yYuLo6XX365rP3jjz9m0aJFzJs3j3379pGXl2cxr/zVV1/RoUMHJk2aRHJyMsnJyRZL319//XU+//xzjh49ilKpZPz48bf8eoS7jCQIt2DZsmWSm5ubZGdnJ3Xs2FGaNm2adOrUqbL2PXv2SM7OzlJJSYnFcbVr15bmzJkjSZIkzZw5U1IoFFJCQkJZ+4YNGyS5XC4lJyfbvK7JZJKcnJykNWvWlD0GSCtWrCi3r926dZOmTp0qSZIkxcbGSgqFQkpMTLR4Tq9evaRp06ZJkiRJ8+bNkwApKiqqrP3bb7+VfHx8yv7t4+Mjffrpp2X/NhqNUnBwsPTAAw/YvO41O3bskABp69atZY+tW7dOAqTi4uJyX4Nw7xAjXeGWPPTQQyQlJbF69Wr69+/Pzp07admyJfPnzwfg1KlTFBQU4OHhUTYydnR0JDo6msuXL5edJzg4mICAgLJ/d+jQAbPZXPZ1OzU1lUmTJlG3bl1cXFxwdnamoKCAuLi4W+r3mTNnMJlMhIeHW/Rr165dFv3SarXUrl277N9+fn6kpaUBkJubS2pqKm3bti1rVygUtGrVqsL9aNq0qcW5gbLzC/c2cSNNuGV2dnb06dOHPn36MGPGDCZOnMjMmTMZN24cBQUF+Pn5WcyVXuPq6lrha4wdO5bMzEy++uorQkJC0Gg0dOjQAb1ef0t9LigoQKFQcOzYMRQKhUWbo6Nj2X+rVCqLNplM9o8l+yrjxvNfK/pkNpur7PzCnUsEXaHKNGzYsGxes2XLlqSkpKBUKgkNDS33mLi4OJKSkvD39wfg4MGDyOVy6tWrB8C+ffv47rvvGDhwIFBaNi8jI+OW+9iiRQtMJhNpaWl06dLlls7h4uKCj48PR44coWvXrgCYTCaOHz9O8+bNy56nVqsxmUQtW8GSmF4QKi0zM5OePXvy22+/cfr0aaKjo/nzzz/55JNPeOCBBwDo3bs3HTp0YMiQIWzevJmYmBj279/P66+/ztGjR8vOZWdnx9ixYzl16hR79uzhueeeY/jw4fj6+gJQt25dFi5cyIULFzh06BCjRo3C3t7+lvseHh7OqFGjGDNmDH/99RfR0dEcPnyYDz/8kHXr1lX4PFOmTOHDDz9k1apVREREMHXqVLKzsy1KlYaGhnLo0CFiYmLIyMgQI1kBEEFXuAWOjo60a9eOWbNm0bVrVxo3bsyMGTOYNGkSs2fPBkq/Mq9fv56uXbvy+OOPEx4ezqOPPkpsbCw+Pj5l56pTpw5Dhw5l4MCB9O3bl6ZNm/Ldd9+Vtf/8889kZ2fTsmVLHnvsMZ577jm8vb3/Vf/nzZvHmDFjeOmll6hXrx5DhgzhyJEjBAcHV/gc//vf/xgxYgRjxoyhQ4cOODo60q9fP+zs7Mqe8/LLL6NQKGjYsCFeXl63PA8t3FtEPV2hxrz11lusXLmSkydP1nRX/jWz2UyDBg0YPnw47777bk13R7iDiTldQbgFsbGxbN68mW7duqHT6Zg9ezbR0dGMHDmyprsm3OHE9IIg3AK5XM78+fNp06YNnTp14syZM2zdupUGDRrUdNeEO5yYXhAEQahGYqQrCIJQjUTQFQRBqEYi6AqCIFQjEXQFQRCqkQi6giAI1UgEXUEQhGokgq4gCEI1EkFXEAShGv0fcxIKCqNc10wAAAAASUVORK5CYII=\n"
                },
                "metadata": {}
              },
              {
                "output_type": "stream",
                "name": "stdout",
                "text": [
                  "              precision    recall  f1-score   support\n",
                  "\n",
                  "           0       1.00      1.00      1.00        50\n",
                  "           1       1.00      1.00      1.00        50\n",
                  "           2       1.00      1.00      1.00        50\n",
                  "\n",
                  "    accuracy                           1.00       150\n",
                  "   macro avg       1.00      1.00      1.00       150\n",
                  "weighted avg       1.00      1.00      1.00       150\n",
                  "\n",
                  "[[50  0  0]\n",
                  " [ 0 50  0]\n",
                  " [ 0  0 50]]\n"
                ]
              }
            ]
          }
        },
        "8d1ca83d0c154d81a7d6a20dee31540d": {
          "model_module": "@jupyter-widgets/base",
          "model_name": "LayoutModel",
          "model_module_version": "1.2.0",
          "state": {
            "_model_module": "@jupyter-widgets/base",
            "_model_module_version": "1.2.0",
            "_model_name": "LayoutModel",
            "_view_count": null,
            "_view_module": "@jupyter-widgets/base",
            "_view_module_version": "1.2.0",
            "_view_name": "LayoutView",
            "align_content": null,
            "align_items": null,
            "align_self": null,
            "border": null,
            "bottom": null,
            "display": null,
            "flex": null,
            "flex_flow": null,
            "grid_area": null,
            "grid_auto_columns": null,
            "grid_auto_flow": null,
            "grid_auto_rows": null,
            "grid_column": null,
            "grid_gap": null,
            "grid_row": null,
            "grid_template_areas": null,
            "grid_template_columns": null,
            "grid_template_rows": null,
            "height": null,
            "justify_content": null,
            "justify_items": null,
            "left": null,
            "margin": null,
            "max_height": null,
            "max_width": null,
            "min_height": null,
            "min_width": null,
            "object_fit": null,
            "object_position": null,
            "order": null,
            "overflow": null,
            "overflow_x": null,
            "overflow_y": null,
            "padding": null,
            "right": null,
            "top": null,
            "visibility": null,
            "width": null
          }
        },
        "190ffd63ce0b46fe83980a805f6b5554": {
          "model_module": "@jupyter-widgets/base",
          "model_name": "LayoutModel",
          "model_module_version": "1.2.0",
          "state": {
            "_model_module": "@jupyter-widgets/base",
            "_model_module_version": "1.2.0",
            "_model_name": "LayoutModel",
            "_view_count": null,
            "_view_module": "@jupyter-widgets/base",
            "_view_module_version": "1.2.0",
            "_view_name": "LayoutView",
            "align_content": null,
            "align_items": null,
            "align_self": null,
            "border": null,
            "bottom": null,
            "display": null,
            "flex": null,
            "flex_flow": null,
            "grid_area": null,
            "grid_auto_columns": null,
            "grid_auto_flow": null,
            "grid_auto_rows": null,
            "grid_column": null,
            "grid_gap": null,
            "grid_row": null,
            "grid_template_areas": null,
            "grid_template_columns": null,
            "grid_template_rows": null,
            "height": null,
            "justify_content": null,
            "justify_items": null,
            "left": null,
            "margin": null,
            "max_height": null,
            "max_width": null,
            "min_height": null,
            "min_width": null,
            "object_fit": null,
            "object_position": null,
            "order": null,
            "overflow": null,
            "overflow_x": null,
            "overflow_y": null,
            "padding": null,
            "right": null,
            "top": null,
            "visibility": null,
            "width": null
          }
        },
        "dfd8fad0c88d45fbb58a3c99252f73e5": {
          "model_module": "@jupyter-widgets/controls",
          "model_name": "DescriptionStyleModel",
          "model_module_version": "1.5.0",
          "state": {
            "_model_module": "@jupyter-widgets/controls",
            "_model_module_version": "1.5.0",
            "_model_name": "DescriptionStyleModel",
            "_view_count": null,
            "_view_module": "@jupyter-widgets/base",
            "_view_module_version": "1.2.0",
            "_view_name": "StyleView",
            "description_width": ""
          }
        },
        "af44fbb34e954e0fa8ae09e9c99330fb": {
          "model_module": "@jupyter-widgets/base",
          "model_name": "LayoutModel",
          "model_module_version": "1.2.0",
          "state": {
            "_model_module": "@jupyter-widgets/base",
            "_model_module_version": "1.2.0",
            "_model_name": "LayoutModel",
            "_view_count": null,
            "_view_module": "@jupyter-widgets/base",
            "_view_module_version": "1.2.0",
            "_view_name": "LayoutView",
            "align_content": null,
            "align_items": null,
            "align_self": null,
            "border": null,
            "bottom": null,
            "display": null,
            "flex": null,
            "flex_flow": null,
            "grid_area": null,
            "grid_auto_columns": null,
            "grid_auto_flow": null,
            "grid_auto_rows": null,
            "grid_column": null,
            "grid_gap": null,
            "grid_row": null,
            "grid_template_areas": null,
            "grid_template_columns": null,
            "grid_template_rows": null,
            "height": null,
            "justify_content": null,
            "justify_items": null,
            "left": null,
            "margin": null,
            "max_height": null,
            "max_width": null,
            "min_height": null,
            "min_width": null,
            "object_fit": null,
            "object_position": null,
            "order": null,
            "overflow": null,
            "overflow_x": null,
            "overflow_y": null,
            "padding": null,
            "right": null,
            "top": null,
            "visibility": null,
            "width": null
          }
        },
        "17f01d836b394c2b8ed56bfb15f9fe2f": {
          "model_module": "@jupyter-widgets/controls",
          "model_name": "SliderStyleModel",
          "model_module_version": "1.5.0",
          "state": {
            "_model_module": "@jupyter-widgets/controls",
            "_model_module_version": "1.5.0",
            "_model_name": "SliderStyleModel",
            "_view_count": null,
            "_view_module": "@jupyter-widgets/base",
            "_view_module_version": "1.2.0",
            "_view_name": "StyleView",
            "description_width": "",
            "handle_color": null
          }
        },
        "873e03508c4b47ceb9a7211d3858f338": {
          "model_module": "@jupyter-widgets/base",
          "model_name": "LayoutModel",
          "model_module_version": "1.2.0",
          "state": {
            "_model_module": "@jupyter-widgets/base",
            "_model_module_version": "1.2.0",
            "_model_name": "LayoutModel",
            "_view_count": null,
            "_view_module": "@jupyter-widgets/base",
            "_view_module_version": "1.2.0",
            "_view_name": "LayoutView",
            "align_content": null,
            "align_items": null,
            "align_self": null,
            "border": null,
            "bottom": null,
            "display": null,
            "flex": null,
            "flex_flow": null,
            "grid_area": null,
            "grid_auto_columns": null,
            "grid_auto_flow": null,
            "grid_auto_rows": null,
            "grid_column": null,
            "grid_gap": null,
            "grid_row": null,
            "grid_template_areas": null,
            "grid_template_columns": null,
            "grid_template_rows": null,
            "height": null,
            "justify_content": null,
            "justify_items": null,
            "left": null,
            "margin": null,
            "max_height": null,
            "max_width": null,
            "min_height": null,
            "min_width": null,
            "object_fit": null,
            "object_position": null,
            "order": null,
            "overflow": null,
            "overflow_x": null,
            "overflow_y": null,
            "padding": null,
            "right": null,
            "top": null,
            "visibility": null,
            "width": null
          }
        }
      }
    }
  },
  "nbformat": 4,
  "nbformat_minor": 0
}